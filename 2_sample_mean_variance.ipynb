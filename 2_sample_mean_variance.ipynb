{
  "nbformat": 4,
  "nbformat_minor": 0,
  "metadata": {
    "colab": {
      "name": "2_sample_mean_variance",
      "provenance": [],
      "collapsed_sections": [],
      "authorship_tag": "ABX9TyPFUq9xf7xI5ieRmv9zgQAk"
    },
    "kernelspec": {
      "name": "python3",
      "display_name": "Python 3"
    }
  },
  "cells": [
    {
      "cell_type": "markdown",
      "metadata": {
        "id": "n5iiR3vY_YGW"
      },
      "source": [
        "# **Sampling distributions of the mean and variance**\n",
        "\n",
        "In this notebook I take many random samples from an underlying distribution to show how the observed sample means and observed sample variances differ from their theoretical distributions.\n",
        "\n",
        "---\n",
        "\n",
        "Definitions:\n",
        "\n",
        "- Sample mean: $\\bar{x}_i = \\frac{\\sum x_i}{n}$\n",
        "- Sample variance: $s^2_i = \\frac{S^2_i}{n-1} = \\frac{\\sum (x_i - \\bar{x})^2}{n-1}$\n",
        "\n",
        "---\n",
        "\n",
        "The notebook is structured as follows:\n",
        "\n",
        "1. Take $N$ samples from some normally distributed random variable $X \\sim N(\\mu, \\sigma^2)$\n",
        "  - Each of the $N$ samples consists of $n$ randomly selected observations ($x_1, x_2, ..., x_{n-1}, x_n$)\n",
        "3. Calculate\n",
        "  - Sample Mean for each of the $N$ samples $(\\bar{x}_1, \\bar{x}_2, ..., \\bar{x}_{N-1}, \\bar{x}_N)$\n",
        "  - Unbiased variance for each of the $N$ samples $(s_1^2, s_2^2, ..., s_{N-1}^2, s_{N}^2)$\n",
        "5. Compare the observed frequency distributions to their theoretical distributions\n",
        "  1. $\\bar{X} \\sim N(\\mu, \\frac{\\mu}{n})$\n",
        "  2. $\\frac{S^2}{\\sigma} \\sim \\chi^2_{n-1}$\n",
        "  3. ${\\frac{\\bar{X}-\\mu}{\\frac{S}{\\sqrt{n}}}} \\sim t_{n-1}$\n",
        "\n",
        "\n",
        "---\n",
        "\n",
        "Import libraries"
      ]
    },
    {
      "cell_type": "code",
      "metadata": {
        "id": "eTQr1icEXA_R"
      },
      "source": [
        "import numpy as np\n",
        "from math import sqrt\n",
        "from scipy.stats import norm\n",
        "from scipy.stats import chi2\n",
        "from scipy.stats import t\n",
        "import matplotlib.pyplot as plt"
      ],
      "execution_count": 1,
      "outputs": []
    },
    {
      "cell_type": "markdown",
      "metadata": {
        "id": "u9rNH14c5VCU"
      },
      "source": [
        "# **1. Underlying distribution**\n",
        "\n",
        "Declare the underlying distribution from which we will be sampling from\n",
        "\n",
        "$X$ is normally distributed with mean 10 and variance 4\n",
        "\n",
        "$X \\sim N(\\mu = 10, \\sigma^2 = 4)$"
      ]
    },
    {
      "cell_type": "code",
      "metadata": {
        "id": "Jv7pJ5sAa1NR"
      },
      "source": [
        "mu_X = 10\n",
        "var_X = 4\n",
        "X = norm(loc=mu_X, scale=sqrt(var_X))"
      ],
      "execution_count": 2,
      "outputs": []
    },
    {
      "cell_type": "markdown",
      "metadata": {
        "id": "s1t5lvMlLB43"
      },
      "source": [
        "Plot the probability distribution of $X$"
      ]
    },
    {
      "cell_type": "code",
      "metadata": {
        "colab": {
          "base_uri": "https://localhost:8080/",
          "height": 295
        },
        "id": "RiZq6KwP29Dq",
        "outputId": "0f194faa-7974-4b6d-ce1b-894f692b5af8"
      },
      "source": [
        "# x-axis\n",
        "x_ax = np.linspace(start=(mu_X - 3 * sqrt(var_X)), stop=(mu_X + 3 * sqrt(var_X)), num=50, endpoint=True)\n",
        "# Plot PDF \n",
        "plt.plot(x_ax, X.pdf(x=x_ax))\n",
        "# Plot population mean\n",
        "plt.axvline(mu_X, linestyle='--')\n",
        "# Styling\n",
        "plt.title('Probability distribution of X')\n",
        "plt.xlabel('x')\n",
        "plt.ylabel('f(x)')\n",
        "plt.xticks(ticks=np.arange(x_ax.min(), x_ax.max() + 1, sqrt(var_X)))\n",
        "# Show\n",
        "plt.show()"
      ],
      "execution_count": 3,
      "outputs": [
        {
          "output_type": "display_data",
          "data": {
            "image/png": "[encoded data removed]",
            "text/plain": [
              "<Figure size 432x288 with 1 Axes>"
            ]
          },
          "metadata": {
            "tags": [],
            "needs_background": "light"
          }
        }
      ]
    },
    {
      "cell_type": "markdown",
      "metadata": {
        "id": "xKBef5Q2694T"
      },
      "source": [
        "Extract a sample of $n = 10$ observations from $X$ and repeat this 1,000 times.\n",
        "\n",
        "This way, we will have 1,000 samples, each one of them consisting of 10 randomly selected observations.\n"
      ]
    },
    {
      "cell_type": "code",
      "metadata": {
        "colab": {
          "base_uri": "https://localhost:8080/"
        },
        "id": "_SC2_lkM3HCg",
        "outputId": "ef0cabf4-723d-428c-d485-1bd2ff653d9b"
      },
      "source": [
        "n = 10\n",
        "X_obs = []\n",
        "for i in range(1000):\n",
        "  X_obs.append(X.rvs(size=n, random_state=i))\n",
        "\n",
        "# Visualize the 72nd sample\n",
        "X_obs[72]"
      ],
      "execution_count": 4,
      "outputs": [
        {
          "output_type": "execute_result",
          "data": {
            "text/plain": [
              "array([10.637091  ,  8.64088113,  5.58322306, 11.18048033, 13.34953209,\n",
              "        6.66808805,  8.35132253, 11.09052068, 10.00237239,  8.48593896])"
            ]
          },
          "metadata": {
            "tags": []
          },
          "execution_count": 4
        }
      ]
    },
    {
      "cell_type": "markdown",
      "metadata": {
        "id": "CnDLovP78Wiv"
      },
      "source": [
        "# **2. Sample mean and sample variance**\n",
        "\n",
        "Calculate the mean of each sample in `X_obs`\n",
        "\n",
        "- We will call this `sm` (for **S**ample **M**ean)"
      ]
    },
    {
      "cell_type": "code",
      "metadata": {
        "colab": {
          "base_uri": "https://localhost:8080/"
        },
        "id": "ntofjbaT8VVm",
        "outputId": "d33801e3-9463-4589-ad0e-0b123525b135"
      },
      "source": [
        "sm = []\n",
        "for x in X_obs:\n",
        "  sm.append(x.mean())\n",
        "\n",
        "# Visualize the 72nd sample mean\n",
        "sm[72]"
      ],
      "execution_count": 5,
      "outputs": [
        {
          "output_type": "execute_result",
          "data": {
            "text/plain": [
              "9.398945020850137"
            ]
          },
          "metadata": {
            "tags": []
          },
          "execution_count": 5
        }
      ]
    },
    {
      "cell_type": "markdown",
      "metadata": {
        "id": "SjRHHeeG-IR0"
      },
      "source": [
        "Calculate the variance of each sample in `X_obs`\n",
        "\n",
        "- Note: `ddof=1` implies that the denominator in the variance formula will be `n - 1`, which gives us an unbiased estimator"
      ]
    },
    {
      "cell_type": "code",
      "metadata": {
        "colab": {
          "base_uri": "https://localhost:8080/"
        },
        "id": "EcmU_umR4JFE",
        "outputId": "ab739557-7549-48c2-864e-721fa8e6057b"
      },
      "source": [
        "sv = []\n",
        "for x in X_obs:\n",
        "  sv.append(x.var(ddof=1))\n",
        "\n",
        "# Visualize the 72nd sample variance\n",
        "sv[72]"
      ],
      "execution_count": 6,
      "outputs": [
        {
          "output_type": "execute_result",
          "data": {
            "text/plain": [
              "5.340292462785591"
            ]
          },
          "metadata": {
            "tags": []
          },
          "execution_count": 6
        }
      ]
    },
    {
      "cell_type": "markdown",
      "metadata": {
        "id": "gSsGGLwZ-lPh"
      },
      "source": [
        "# **3. Compare**\n",
        "\n",
        "# Distribution of the sample mean\n",
        "\n",
        "In theory, the sample mean follows a normal distribution:\n",
        "\n",
        "$\\bar{X} \\sim N(\\mu, \\frac{\\sigma^2}{n})$"
      ]
    },
    {
      "cell_type": "code",
      "metadata": {
        "id": "cpJmO8KJBaAg"
      },
      "source": [
        "# Declare the theoretical random variable\n",
        "X_bar = norm(loc=mu_X, scale=sqrt(var_X / n))"
      ],
      "execution_count": 7,
      "outputs": []
    },
    {
      "cell_type": "markdown",
      "metadata": {
        "id": "8VPAyZK7xHRm"
      },
      "source": [
        "Let's see how the mean and variance of the 1,000 sample means compare against their theoretical values"
      ]
    },
    {
      "cell_type": "code",
      "metadata": {
        "colab": {
          "base_uri": "https://localhost:8080/"
        },
        "id": "_4fgUkU7F0fZ",
        "outputId": "e4531dd7-0ef2-46ee-f542-b57ca468895c"
      },
      "source": [
        "print('Observed mean:', round(np.mean(sm), 2))\n",
        "print('Theoretical mean:', X_bar.stats('m'))\n",
        "print('\\nObserved variance:', round(np.var(sm), 2))\n",
        "print('Theoretical variance:', round(X_bar.stats('v').item(), 2))"
      ],
      "execution_count": 8,
      "outputs": [
        {
          "output_type": "stream",
          "text": [
            "Observed mean: 9.99\n",
            "Theoretical mean: 10.0\n",
            "\n",
            "Observed variance: 0.39\n",
            "Theoretical variance: 0.4\n"
          ],
          "name": "stdout"
        }
      ]
    },
    {
      "cell_type": "markdown",
      "metadata": {
        "id": "1AKViYfjxQDW"
      },
      "source": [
        "Let's see how the histogram of the 1,000 sample means compares against its theoretical probability distribution"
      ]
    },
    {
      "cell_type": "code",
      "metadata": {
        "colab": {
          "base_uri": "https://localhost:8080/",
          "height": 295
        },
        "id": "Kld-xR7CDAgA",
        "outputId": "56f245d7-0437-4f13-a742-6ce7cc4c1d33"
      },
      "source": [
        "# Set x-axis\n",
        "x_ax = np.linspace(mu_X- 3 * sqrt(X_bar.stats('v')), mu_X + 3 * sqrt(X_bar.stats('v')))\n",
        "# Plot histogram of observed sample means\n",
        "plt.hist(sm, bins=50, density=True, color='C0', label='Observed frequency distribution')\n",
        "# Plot theoretical distribution\n",
        "plt.plot(x_ax, X_bar.pdf(x_ax), color='C1', label='Theoretical probability distribution')\n",
        "# Plot theoretical mean\n",
        "plt.axvline(X_bar.stats('m').item(), color='C1', ls='--')\n",
        "# Styling\n",
        "plt.title('Sample mean')\n",
        "plt.xlabel('x')\n",
        "plt.ylabel('Frequency per bin')\n",
        "plt.legend()\n",
        "plt.ylim(0, 1)\n",
        "# Show\n",
        "plt.show()"
      ],
      "execution_count": 9,
      "outputs": [
        {
          "output_type": "display_data",
          "data": {
            "image/png": "[encoded data removed]",
            "text/plain": [
              "<Figure size 432x288 with 1 Axes>"
            ]
          },
          "metadata": {
            "tags": [],
            "needs_background": "light"
          }
        }
      ]
    },
    {
      "cell_type": "markdown",
      "metadata": {
        "id": "Dur4fdsEHN6y"
      },
      "source": [
        "# Distribution of the observed sample variance\n",
        "\n",
        "Recall\n",
        "\n",
        "$s_i^2 = \\frac{S_i^2}{n-1} \\implies S_i^2 = s_i^2 \\times (n - 1)$\n",
        "\n",
        "In theory, the sampling distribution of $\\frac{S^2}{\\sigma} \\sim \\chi_{n - 1}^2$\n",
        "\n",
        "For this example:\n",
        "\n",
        "$\\frac{S^2}{\\sigma} \\sim \\chi_{9}^2$"
      ]
    },
    {
      "cell_type": "markdown",
      "metadata": {
        "id": "Nvry4o5lxyNQ"
      },
      "source": [
        "Declare:\n",
        "\n",
        "1. the theoretical random variable\n",
        "2. the observed sum of squared deviations divided by the population variance"
      ]
    },
    {
      "cell_type": "code",
      "metadata": {
        "id": "eLrxZPRIKk0u"
      },
      "source": [
        "# Declare the theoretical chi-square distribution\n",
        "SV = chi2(df=(n - 1))\n",
        "# Multiply each observed variance times (n - 1) to get sum of squares and divide by the variance of X\n",
        "est = [v * (n - 1) / var_X for v in sv]"
      ],
      "execution_count": 10,
      "outputs": []
    },
    {
      "cell_type": "markdown",
      "metadata": {
        "id": "aF9DG8DryPGh"
      },
      "source": [
        "Let's see how the mean and variance of the 1,000 observations compare to their theoretical values"
      ]
    },
    {
      "cell_type": "code",
      "metadata": {
        "colab": {
          "base_uri": "https://localhost:8080/"
        },
        "id": "j4Flir8xda71",
        "outputId": "0f98ab7d-5b74-43e7-f704-4c84867830f7"
      },
      "source": [
        "print('Observed mean:', round(np.mean(est), 2))\n",
        "print('Theoretical mean:', SV.stats('m'))\n",
        "print('\\nObserved variance:', round(np.var(est), 2))\n",
        "print('Theoretical variance', SV.stats('v'))"
      ],
      "execution_count": 11,
      "outputs": [
        {
          "output_type": "stream",
          "text": [
            "Observed mean: 9.06\n",
            "Theoretical mean: 9.0\n",
            "\n",
            "Observed variance: 18.18\n",
            "Theoretical variance 18.0\n"
          ],
          "name": "stdout"
        }
      ]
    },
    {
      "cell_type": "markdown",
      "metadata": {
        "id": "3GVcK15OyVYb"
      },
      "source": [
        "Let's see how the histogram compares to its theoretical probability distribution"
      ]
    },
    {
      "cell_type": "code",
      "metadata": {
        "colab": {
          "base_uri": "https://localhost:8080/",
          "height": 295
        },
        "id": "PdO1aLmLKP7k",
        "outputId": "3d0c9940-b8bd-4e46-856e-014a4f1c6a37"
      },
      "source": [
        "# Set x-axis\n",
        "x_ax = np.linspace(start=0, stop=50, num=100, endpoint=True)\n",
        "# Plot histogram of observed sample variances\n",
        "plt.hist(est, bins=x_ax, density=True, label='Observed frequency distribution')\n",
        "# Plot theoretical PDF\n",
        "plt.plot(x_ax, SV.pdf(x=x_ax), label='Theoretical probability distribution')\n",
        "# Styling\n",
        "plt.title('Sum of squared deviations')\n",
        "plt.xlabel('x')\n",
        "plt.ylabel('Relative frequency per bin')\n",
        "# Show\n",
        "plt.show()"
      ],
      "execution_count": 12,
      "outputs": [
        {
          "output_type": "display_data",
          "data": {
            "image/png": "[encoded data removed]",
            "text/plain": [
              "<Figure size 432x288 with 1 Axes>"
            ]
          },
          "metadata": {
            "tags": [],
            "needs_background": "light"
          }
        }
      ]
    },
    {
      "cell_type": "markdown",
      "metadata": {
        "id": "92jtzkugOiAx"
      },
      "source": [
        "# Distribution of the observed $t$ statistic\n",
        "\n",
        "In theory, the sampling distribution of $T = {\\frac{\\bar{x}-\\mu}{\\frac{S}{\\sqrt{n}}}}$ follows a $t$ distribution with $n-1$ degrees of freedom.\n",
        "\n",
        "For this example:\n",
        "\n",
        "${\\frac{\\bar{x}-\\mu}{\\frac{S}{\\sqrt{n}}}} \\sim t_9$"
      ]
    },
    {
      "cell_type": "markdown",
      "metadata": {
        "id": "dkSvB5AzOiAz"
      },
      "source": [
        "Declare:\n",
        "\n",
        "1. the theoretical random variable\n",
        "2. the observed ${\\frac{\\bar{x}-\\mu}{\\frac{S}{\\sqrt{n}}}}$, where: $\\frac{S}{\\sqrt{n}} = \\frac{9 sv_i}{\\sqrt{10}}$"
      ]
    },
    {
      "cell_type": "code",
      "metadata": {
        "id": "GpYcxfphOiA0"
      },
      "source": [
        "# Declare the theoretical chi-square distribution\n",
        "T = t(df=(n - 1))\n",
        "# Observed t statistics\n",
        "est = np.multiply(np.array(sm) - mu_X, np.power(np.array(sv) * (n - 1) / n, 0.5))"
      ],
      "execution_count": 13,
      "outputs": []
    },
    {
      "cell_type": "markdown",
      "metadata": {
        "id": "Apuocdd8OiA1"
      },
      "source": [
        "Let's see how the mean and variance of the 1,000 observations compare to their theoretical values"
      ]
    },
    {
      "cell_type": "code",
      "metadata": {
        "colab": {
          "base_uri": "https://localhost:8080/"
        },
        "id": "8F72YhKOOiA1",
        "outputId": "76a6599a-8e44-47b3-a642-e8762dd95b66"
      },
      "source": [
        "print('Observed mean:', round(np.mean(est), 2))\n",
        "print('Theoretical mean:', T.stats('m'))\n",
        "print('\\nObserved variance:', round(np.var(est), 2))\n",
        "print('Theoretical variance', round(T.stats('v').item(), 2))"
      ],
      "execution_count": 14,
      "outputs": [
        {
          "output_type": "stream",
          "text": [
            "Observed mean: -0.02\n",
            "Theoretical mean: 0.0\n",
            "\n",
            "Observed variance: 1.39\n",
            "Theoretical variance 1.29\n"
          ],
          "name": "stdout"
        }
      ]
    },
    {
      "cell_type": "markdown",
      "metadata": {
        "id": "joUZqlYhOiA2"
      },
      "source": [
        "Let's see how the histogram compares to its theoretical probability distribution"
      ]
    },
    {
      "cell_type": "code",
      "metadata": {
        "colab": {
          "base_uri": "https://localhost:8080/",
          "height": 295
        },
        "id": "anDceU3QOiA2",
        "outputId": "a9f8de37-21cb-4e88-f0f0-386c561400a3"
      },
      "source": [
        "# Set x-axis\n",
        "x_ax = np.linspace(start=-10, stop=10, num=100, endpoint=True)\n",
        "# Plot histogram of observed sample variances\n",
        "plt.hist(est, bins=x_ax, density=True, label='Observed frequency distribution')\n",
        "# Plot theoretical PDF\n",
        "plt.plot(x_ax, T.pdf(x=x_ax), label='Theoretical probability distribution')\n",
        "# Styling\n",
        "plt.title('Sum of squared deviations')\n",
        "plt.xlabel('x')\n",
        "plt.ylabel('Relative frequency per bin')\n",
        "# Show\n",
        "plt.show()"
      ],
      "execution_count": 15,
      "outputs": [
        {
          "output_type": "display_data",
          "data": {
            "image/png": "[encoded data removed]",
            "text/plain": [
              "<Figure size 432x288 with 1 Axes>"
            ]
          },
          "metadata": {
            "tags": [],
            "needs_background": "light"
          }
        }
      ]
    }
  ]
}