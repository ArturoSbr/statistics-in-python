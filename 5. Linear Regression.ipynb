{
  "nbformat": 4,
  "nbformat_minor": 0,
  "metadata": {
    "colab": {
      "name": "5. Linear Regression",
      "provenance": [],
      "collapsed_sections": [],
      "authorship_tag": "ABX9TyPJ3OVQwnUnN3E8hyYgAMu8"
    },
    "kernelspec": {
      "name": "python3",
      "display_name": "Python 3"
    },
    "language_info": {
      "name": "python"
    }
  },
  "cells": [
    {
      "cell_type": "markdown",
      "metadata": {
        "id": "UXz6M3fEWH4H"
      },
      "source": [
        "# 5. Linear Regression\n",
        "Linear regression is a technique used to model the relationship between two or more variables. In particular, linear regression is used when one of the variables is thought to be dependent on a set of independent variables.\n",
        "\n",
        "---\n",
        "\n",
        "Set local environment"
      ]
    },
    {
      "cell_type": "code",
      "metadata": {
        "id": "OZ7s7Bwi5r_O",
        "colab": {
          "base_uri": "https://localhost:8080/"
        },
        "outputId": "47296447-57d1-457e-e583-93dab1cbd7c2"
      },
      "source": [
        "import numpy as np\n",
        "import pandas as pd\n",
        "from statsmodels.api import OLS\n",
        "from sklearn.datasets import load_boston\n",
        "from matplotlib import pyplot as plt"
      ],
      "execution_count": 1,
      "outputs": [
        {
          "output_type": "stream",
          "text": [
            "/usr/local/lib/python3.7/dist-packages/statsmodels/tools/_testing.py:19: FutureWarning: pandas.util.testing is deprecated. Use the functions in the public API at pandas.testing instead.\n",
            "  import pandas.util.testing as tm\n"
          ],
          "name": "stderr"
        }
      ]
    },
    {
      "cell_type": "markdown",
      "metadata": {
        "id": "pAbZURU0ZMmw"
      },
      "source": [
        "Consider the following data of 506 houses listed on the 1978 Boston real estate market. The dependent variable, `MEDV`, is the price in thousands of dollars, which is thought to be dependent on the columns to its left (AKA the independent variables)."
      ]
    },
    {
      "cell_type": "code",
      "metadata": {
        "colab": {
          "base_uri": "https://localhost:8080/",
          "height": 204
        },
        "id": "kd6TeJ-fefVD",
        "outputId": "de2e2f25-1061-4fe8-babd-25a5c9be84cd"
      },
      "source": [
        "df = pd.read_csv(load_boston()['filename'], header=1)\n",
        "df.head()"
      ],
      "execution_count": 2,
      "outputs": [
        {
          "output_type": "execute_result",
          "data": {
            "text/html": [
              "<div>\n",
              "<style scoped>\n",
              "    .dataframe tbody tr th:only-of-type {\n",
              "        vertical-align: middle;\n",
              "    }\n",
              "\n",
              "    .dataframe tbody tr th {\n",
              "        vertical-align: top;\n",
              "    }\n",
              "\n",
              "    .dataframe thead th {\n",
              "        text-align: right;\n",
              "    }\n",
              "</style>\n",
              "<table border=\"1\" class=\"dataframe\">\n",
              "  <thead>\n",
              "    <tr style=\"text-align: right;\">\n",
              "      <th></th>\n",
              "      <th>CRIM</th>\n",
              "      <th>ZN</th>\n",
              "      <th>INDUS</th>\n",
              "      <th>CHAS</th>\n",
              "      <th>NOX</th>\n",
              "      <th>RM</th>\n",
              "      <th>AGE</th>\n",
              "      <th>DIS</th>\n",
              "      <th>RAD</th>\n",
              "      <th>TAX</th>\n",
              "      <th>PTRATIO</th>\n",
              "      <th>B</th>\n",
              "      <th>LSTAT</th>\n",
              "      <th>MEDV</th>\n",
              "    </tr>\n",
              "  </thead>\n",
              "  <tbody>\n",
              "    <tr>\n",
              "      <th>0</th>\n",
              "      <td>0.00632</td>\n",
              "      <td>18.0</td>\n",
              "      <td>2.31</td>\n",
              "      <td>0</td>\n",
              "      <td>0.538</td>\n",
              "      <td>6.575</td>\n",
              "      <td>65.2</td>\n",
              "      <td>4.0900</td>\n",
              "      <td>1</td>\n",
              "      <td>296</td>\n",
              "      <td>15.3</td>\n",
              "      <td>396.90</td>\n",
              "      <td>4.98</td>\n",
              "      <td>24.0</td>\n",
              "    </tr>\n",
              "    <tr>\n",
              "      <th>1</th>\n",
              "      <td>0.02731</td>\n",
              "      <td>0.0</td>\n",
              "      <td>7.07</td>\n",
              "      <td>0</td>\n",
              "      <td>0.469</td>\n",
              "      <td>6.421</td>\n",
              "      <td>78.9</td>\n",
              "      <td>4.9671</td>\n",
              "      <td>2</td>\n",
              "      <td>242</td>\n",
              "      <td>17.8</td>\n",
              "      <td>396.90</td>\n",
              "      <td>9.14</td>\n",
              "      <td>21.6</td>\n",
              "    </tr>\n",
              "    <tr>\n",
              "      <th>2</th>\n",
              "      <td>0.02729</td>\n",
              "      <td>0.0</td>\n",
              "      <td>7.07</td>\n",
              "      <td>0</td>\n",
              "      <td>0.469</td>\n",
              "      <td>7.185</td>\n",
              "      <td>61.1</td>\n",
              "      <td>4.9671</td>\n",
              "      <td>2</td>\n",
              "      <td>242</td>\n",
              "      <td>17.8</td>\n",
              "      <td>392.83</td>\n",
              "      <td>4.03</td>\n",
              "      <td>34.7</td>\n",
              "    </tr>\n",
              "    <tr>\n",
              "      <th>3</th>\n",
              "      <td>0.03237</td>\n",
              "      <td>0.0</td>\n",
              "      <td>2.18</td>\n",
              "      <td>0</td>\n",
              "      <td>0.458</td>\n",
              "      <td>6.998</td>\n",
              "      <td>45.8</td>\n",
              "      <td>6.0622</td>\n",
              "      <td>3</td>\n",
              "      <td>222</td>\n",
              "      <td>18.7</td>\n",
              "      <td>394.63</td>\n",
              "      <td>2.94</td>\n",
              "      <td>33.4</td>\n",
              "    </tr>\n",
              "    <tr>\n",
              "      <th>4</th>\n",
              "      <td>0.06905</td>\n",
              "      <td>0.0</td>\n",
              "      <td>2.18</td>\n",
              "      <td>0</td>\n",
              "      <td>0.458</td>\n",
              "      <td>7.147</td>\n",
              "      <td>54.2</td>\n",
              "      <td>6.0622</td>\n",
              "      <td>3</td>\n",
              "      <td>222</td>\n",
              "      <td>18.7</td>\n",
              "      <td>396.90</td>\n",
              "      <td>5.33</td>\n",
              "      <td>36.2</td>\n",
              "    </tr>\n",
              "  </tbody>\n",
              "</table>\n",
              "</div>"
            ],
            "text/plain": [
              "      CRIM    ZN  INDUS  CHAS    NOX  ...  TAX  PTRATIO       B  LSTAT  MEDV\n",
              "0  0.00632  18.0   2.31     0  0.538  ...  296     15.3  396.90   4.98  24.0\n",
              "1  0.02731   0.0   7.07     0  0.469  ...  242     17.8  396.90   9.14  21.6\n",
              "2  0.02729   0.0   7.07     0  0.469  ...  242     17.8  392.83   4.03  34.7\n",
              "3  0.03237   0.0   2.18     0  0.458  ...  222     18.7  394.63   2.94  33.4\n",
              "4  0.06905   0.0   2.18     0  0.458  ...  222     18.7  396.90   5.33  36.2\n",
              "\n",
              "[5 rows x 14 columns]"
            ]
          },
          "metadata": {
            "tags": []
          },
          "execution_count": 2
        }
      ]
    },
    {
      "cell_type": "markdown",
      "metadata": {
        "id": "0CtOXlY_hB7Q"
      },
      "source": [
        "Our dependent variable, `MEDV` seems to have a negative relationship with `LSTAT`, which denotes the percentage of \"low-status\" households in the area. \n",
        "\n",
        "We can think of the relationship as a causal one. That is, the percentage of low-status households in the area determines a house's price. The higher the percentage of low-status neighbors, the lower the price will be.\n",
        "\n",
        "This is most likely not a one-way relationship, but we will use `LSTAT` as the independent variable and `MEDV` as the dependent variable."
      ]
    },
    {
      "cell_type": "code",
      "metadata": {
        "colab": {
          "base_uri": "https://localhost:8080/",
          "height": 279
        },
        "id": "CgY7ullTflUb",
        "outputId": "60e4823f-8517-4d1b-ca50-51ba54c3883e"
      },
      "source": [
        "plt.scatter(df['LSTAT'], df['MEDV'], alpha=0.5)\n",
        "plt.xlabel('Low-status households in area (%)')\n",
        "plt.ylabel('Price (thousands of dollars)')\n",
        "plt.axvline(10, ls='--', color='C1')\n",
        "plt.show()"
      ],
      "execution_count": 3,
      "outputs": [
        {
          "output_type": "display_data",
          "data": {
            "image/png": "[encoded data removed]",
            "text/plain": [
              "<Figure size 432x288 with 1 Axes>"
            ]
          },
          "metadata": {
            "tags": [],
            "needs_background": "light"
          }
        }
      ]
    },
    {
      "cell_type": "markdown",
      "metadata": {
        "id": "du5kP6jqkB1D"
      },
      "source": [
        "The orange vertical line shows that, for a fixed percentage of low-status households (10%), the price varies considerably. Hence, a house's price can be regarded as a random variable with mean $E(Y|x)$, variance $V(Y|x)$, and so on.\n",
        "\n",
        "In this notation, $Y$ is a random variable that represents a house's price once $x$ has been fixed. It is important to note that $x$ is not a random variable for the purpose of this model. It should be thought of as a fixed value known exactly to the experimenter. We will see the implications of variablity in the independent variables later on.\n",
        "\n",
        "The characteristics of the distribution of $Y$ given $x$, and in particular of $E(Y|x)$, change with $x$. The line of $E(Y|x)$ is called the regression of $Y$ on $x$.\n",
        "\n",
        "The simplest and most important kind of regression is a straight line:\n",
        "\n",
        "$E(Y|x) = \\alpha + \\beta x$\n",
        "\n",
        "Where $\\alpha$ is the intercept and $\\beta$ is the slope of the line that goes through the expected value of $Y$ for all given values of $x$. Our job is to estimate these two parameters. We typically do this by defining a loss function, which we minimize in order to obtain the line of best fit according to the arbitrary criteria that we choose.\n",
        "\n",
        "The most common loss function is the sum of squared deviations of observed from estimated values of $y$. Minimizing the cost function will yield the line\n",
        "\n",
        "$\\hat{y} = a + bx$\n",
        "\n",
        "It is extremely important to understand that $a$ and $b$ are estimates of $\\alpha$ and $\\beta$ respectively. Minimizing the sum of squared deviations is known as the method of Ordinary Least Squares.\n",
        "\n",
        "Suppose we have $n$ pairs of observations $(x_1, y_1)$, $(x_2, y_2)$, etc. The estimators are derived as follows:\n",
        "\n",
        "$\\text{min}_{\\{a,b\\}} [\\space S^2 = \\sum_{i=1}^n (y_i - \\hat{y}_i)^2]$\n",
        "\n",
        "Which given our linear model is equivalent to:\n",
        "\n",
        "$\\text{min}_{\\{a,b\\}} \\sum_{i=1}^n (y_i - a - bx_i)^2$\n",
        "\n",
        "Setting the first order conditions to zero:\n",
        "\n",
        "1. $\\frac{\\delta S^2}{\\delta a} = -2 \\sum_{i=1}^{n} (y_i - a - bx_i) = 0$\n",
        "\n",
        "2. $\\frac{\\delta S^2}{\\delta b} = -2 \\sum_{i=1}^{n} x_i(y_i - a - bx_i) = 0$\n",
        "\n",
        "From the first partial derivative:\n",
        "\n",
        "$\\sum_{i=1}^{n} (y_i - a - bx_i) = \\sum_{i=1}^{n} y_i - na - b\\sum_{i=1}^{n}x_i$\n",
        "\n",
        "Solving for $a$:\n",
        "\n",
        "$a = \\frac{\\sum_{i=1}^{n} y_i - b\\sum_{i=1}^{n}x_i}{n} = \\bar{y} - b\\bar{x}$\n",
        "\n",
        "This equation can be expressed as $\\bar{y} = a + b\\bar{x}$, which tells us that the regression line will go through the points $(\\bar{x}, \\bar{y})$. If we substitute $a$ into the second partial derivative:\n",
        "\n",
        "$\\sum_{i=1}^{n} x_i(y_i - \\bar{y} + b \\bar{x} - bx_i) =\n",
        "\\sum_{i=1}^{n} x_i(y_i - \\bar{y}) - b \\sum_{i=1}^{n} x_i(x_i - \\bar{x})$\n",
        "\n",
        "Solving for $b$:\n",
        "\n",
        "$b = \\frac{\\sum_{i=1}^{n} x_i(y_i - \\bar{y})}{\\sum_{i=1}^{n} x_i(x_i - \\bar{x})}$\n",
        "\n",
        "We have thus found the estimators that minimize the loss function. However, $b$ can be expressed in a more elegant way. In order to do it, note that:"
      ]
    },
    {
      "cell_type": "code",
      "metadata": {
        "id": "R9Gop2N4kA20"
      },
      "source": [
        ""
      ],
      "execution_count": 3,
      "outputs": []
    }
  ]
}