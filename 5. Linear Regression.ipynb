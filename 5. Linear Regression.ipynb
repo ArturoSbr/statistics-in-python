{
  "nbformat": 4,
  "nbformat_minor": 0,
  "metadata": {
    "colab": {
      "name": "5. Linear Regression",
      "provenance": [],
      "collapsed_sections": [],
      "authorship_tag": "ABX9TyOt6i/yWYMW2e4Za6HKnXkh"
    },
    "kernelspec": {
      "name": "python3",
      "display_name": "Python 3"
    },
    "language_info": {
      "name": "python"
    }
  },
  "cells": [
    {
      "cell_type": "markdown",
      "metadata": {
        "id": "UXz6M3fEWH4H"
      },
      "source": [
        "# 5. Linear Regression\n",
        "Linear regression is a technique used to model the relationship between two or more variables. In particular, linear regression is used when one of the variables is thought to be dependent on a set of independent variables.\n",
        "\n",
        "---\n",
        "\n",
        "Set local environment"
      ]
    },
    {
      "cell_type": "code",
      "metadata": {
        "id": "OZ7s7Bwi5r_O"
      },
      "source": [
        "import numpy as np\n",
        "import pandas as pd\n",
        "import statsmodels.api as sm\n",
        "from sklearn.datasets import load_boston\n",
        "from matplotlib import pyplot as plt"
      ],
      "execution_count": null,
      "outputs": []
    },
    {
      "cell_type": "markdown",
      "metadata": {
        "id": "pAbZURU0ZMmw"
      },
      "source": [
        "Consider the following data of 506 houses listed on the 1978 Boston real estate market. The dependent variable, `MEDV`, is the price in thousands of dollars, which is thought to be dependent on the columns to its left (AKA the independent variables)."
      ]
    },
    {
      "cell_type": "code",
      "metadata": {
        "colab": {
          "base_uri": "https://localhost:8080/",
          "height": 204
        },
        "id": "kd6TeJ-fefVD",
        "outputId": "6e352493-ff6a-4b02-bdc6-850b4e60d752"
      },
      "source": [
        "df = pd.read_csv(load_boston()['filename'], header=1)\n",
        "df.head()"
      ],
      "execution_count": 2,
      "outputs": [
        {
          "output_type": "execute_result",
          "data": {
            "text/html": [
              "<div>\n",
              "<style scoped>\n",
              "    .dataframe tbody tr th:only-of-type {\n",
              "        vertical-align: middle;\n",
              "    }\n",
              "\n",
              "    .dataframe tbody tr th {\n",
              "        vertical-align: top;\n",
              "    }\n",
              "\n",
              "    .dataframe thead th {\n",
              "        text-align: right;\n",
              "    }\n",
              "</style>\n",
              "<table border=\"1\" class=\"dataframe\">\n",
              "  <thead>\n",
              "    <tr style=\"text-align: right;\">\n",
              "      <th></th>\n",
              "      <th>CRIM</th>\n",
              "      <th>ZN</th>\n",
              "      <th>INDUS</th>\n",
              "      <th>CHAS</th>\n",
              "      <th>NOX</th>\n",
              "      <th>RM</th>\n",
              "      <th>AGE</th>\n",
              "      <th>DIS</th>\n",
              "      <th>RAD</th>\n",
              "      <th>TAX</th>\n",
              "      <th>PTRATIO</th>\n",
              "      <th>B</th>\n",
              "      <th>LSTAT</th>\n",
              "      <th>MEDV</th>\n",
              "    </tr>\n",
              "  </thead>\n",
              "  <tbody>\n",
              "    <tr>\n",
              "      <th>0</th>\n",
              "      <td>0.00632</td>\n",
              "      <td>18.0</td>\n",
              "      <td>2.31</td>\n",
              "      <td>0</td>\n",
              "      <td>0.538</td>\n",
              "      <td>6.575</td>\n",
              "      <td>65.2</td>\n",
              "      <td>4.0900</td>\n",
              "      <td>1</td>\n",
              "      <td>296</td>\n",
              "      <td>15.3</td>\n",
              "      <td>396.90</td>\n",
              "      <td>4.98</td>\n",
              "      <td>24.0</td>\n",
              "    </tr>\n",
              "    <tr>\n",
              "      <th>1</th>\n",
              "      <td>0.02731</td>\n",
              "      <td>0.0</td>\n",
              "      <td>7.07</td>\n",
              "      <td>0</td>\n",
              "      <td>0.469</td>\n",
              "      <td>6.421</td>\n",
              "      <td>78.9</td>\n",
              "      <td>4.9671</td>\n",
              "      <td>2</td>\n",
              "      <td>242</td>\n",
              "      <td>17.8</td>\n",
              "      <td>396.90</td>\n",
              "      <td>9.14</td>\n",
              "      <td>21.6</td>\n",
              "    </tr>\n",
              "    <tr>\n",
              "      <th>2</th>\n",
              "      <td>0.02729</td>\n",
              "      <td>0.0</td>\n",
              "      <td>7.07</td>\n",
              "      <td>0</td>\n",
              "      <td>0.469</td>\n",
              "      <td>7.185</td>\n",
              "      <td>61.1</td>\n",
              "      <td>4.9671</td>\n",
              "      <td>2</td>\n",
              "      <td>242</td>\n",
              "      <td>17.8</td>\n",
              "      <td>392.83</td>\n",
              "      <td>4.03</td>\n",
              "      <td>34.7</td>\n",
              "    </tr>\n",
              "    <tr>\n",
              "      <th>3</th>\n",
              "      <td>0.03237</td>\n",
              "      <td>0.0</td>\n",
              "      <td>2.18</td>\n",
              "      <td>0</td>\n",
              "      <td>0.458</td>\n",
              "      <td>6.998</td>\n",
              "      <td>45.8</td>\n",
              "      <td>6.0622</td>\n",
              "      <td>3</td>\n",
              "      <td>222</td>\n",
              "      <td>18.7</td>\n",
              "      <td>394.63</td>\n",
              "      <td>2.94</td>\n",
              "      <td>33.4</td>\n",
              "    </tr>\n",
              "    <tr>\n",
              "      <th>4</th>\n",
              "      <td>0.06905</td>\n",
              "      <td>0.0</td>\n",
              "      <td>2.18</td>\n",
              "      <td>0</td>\n",
              "      <td>0.458</td>\n",
              "      <td>7.147</td>\n",
              "      <td>54.2</td>\n",
              "      <td>6.0622</td>\n",
              "      <td>3</td>\n",
              "      <td>222</td>\n",
              "      <td>18.7</td>\n",
              "      <td>396.90</td>\n",
              "      <td>5.33</td>\n",
              "      <td>36.2</td>\n",
              "    </tr>\n",
              "  </tbody>\n",
              "</table>\n",
              "</div>"
            ],
            "text/plain": [
              "      CRIM    ZN  INDUS  CHAS    NOX  ...  TAX  PTRATIO       B  LSTAT  MEDV\n",
              "0  0.00632  18.0   2.31     0  0.538  ...  296     15.3  396.90   4.98  24.0\n",
              "1  0.02731   0.0   7.07     0  0.469  ...  242     17.8  396.90   9.14  21.6\n",
              "2  0.02729   0.0   7.07     0  0.469  ...  242     17.8  392.83   4.03  34.7\n",
              "3  0.03237   0.0   2.18     0  0.458  ...  222     18.7  394.63   2.94  33.4\n",
              "4  0.06905   0.0   2.18     0  0.458  ...  222     18.7  396.90   5.33  36.2\n",
              "\n",
              "[5 rows x 14 columns]"
            ]
          },
          "metadata": {
            "tags": []
          },
          "execution_count": 2
        }
      ]
    },
    {
      "cell_type": "markdown",
      "metadata": {
        "id": "0CtOXlY_hB7Q"
      },
      "source": [
        "Our dependent variable, `MEDV` seems to have a negative relationship with `LSTAT`, which denotes the percentage of \"low-status\" households in the area. \n",
        "\n",
        "We can think of the relationship as a causal one. That is, the percentage of low-status households in the area determines a house's price. The higher the percentage of low-status neighbors, the lower the price will be.\n",
        "\n",
        "This is most likely not a one-way relationship, but we will use `LSTAT` as the independent variable and `MEDV` as the dependent variable."
      ]
    },
    {
      "cell_type": "code",
      "metadata": {
        "colab": {
          "base_uri": "https://localhost:8080/",
          "height": 279
        },
        "id": "CgY7ullTflUb",
        "outputId": "80ed2d4a-4d94-4aa9-cc03-cd2ac4170db6"
      },
      "source": [
        "plt.scatter(df['LSTAT'], df['MEDV'], alpha=0.5)\n",
        "plt.xlabel('Low-status households in area (%)')\n",
        "plt.ylabel('Price (thousands of dollars)')\n",
        "plt.axvline(10, ls='--', color='C1')\n",
        "plt.show()"
      ],
      "execution_count": 3,
      "outputs": [
        {
          "output_type": "display_data",
          "data": {
            "image/png": "[encoded data removed]",
            "text/plain": [
              "<Figure size 432x288 with 1 Axes>"
            ]
          },
          "metadata": {
            "tags": [],
            "needs_background": "light"
          }
        }
      ]
    },
    {
      "cell_type": "markdown",
      "metadata": {
        "id": "du5kP6jqkB1D"
      },
      "source": [
        "The orange vertical line shows that, for a fixed percentage of low-status households (10%), the price varies considerably. Hence, a house's price can be regarded as a random variable with mean $E(Y|x)$, variance $V(Y|x)$, and so on.\n",
        "\n",
        "In this notation, $Y$ is a random variable that represents a house's price once $x$ has been fixed. It is important to note that $x$ is not a random variable for the purpose of this model. It should be thought of as a fixed value known exactly to the experimenter. We will see the implications of variablity in the independent variables later on.\n",
        "\n",
        "The characteristics of the distribution of $Y$ given $x$, and in particular of $E(Y|x)$, change with $x$. The line of $E(Y|x)$ is called the regression of $Y$ on $x$.\n",
        "\n",
        "The simplest and most important kind of regression is a straight line:\n",
        "\n",
        "$E(Y|x) = \\alpha + \\beta x$\n",
        "\n",
        "Where $\\alpha$ is the intercept and $\\beta$ is the slope of the line that goes through the expected value of $Y$ for all given values of $x$. Our job is to estimate these two parameters. We typically do this by defining a loss function, which we minimize in order to obtain the line of best fit according to the arbitrary criteria that we choose.\n",
        "\n",
        "The most common loss function is the sum of squared deviations of observed from estimated values of $y$. Minimizing the cost function will yield the line\n",
        "\n",
        "$\\hat{y} = a + bx$\n",
        "\n",
        "It is extremely important to understand that $a$ and $b$ are estimates of $\\alpha$ and $\\beta$ respectively. Minimizing the sum of squared deviations is known as the method of Ordinary Least Squares (OLS).\n",
        "\n",
        "Suppose we have $n$ pairs of observations $(x_1, y_1)$, $(x_2, y_2)$, etc. The estimators are derived as follows:\n",
        "\n",
        "$\\text{min}_{\\{a,b\\}} [\\space S^2 = \\sum_{i=1}^n (y_i - \\hat{y}_i)^2]$\n",
        "\n",
        "Which given our linear model is equivalent to:\n",
        "\n",
        "$\\text{min}_{\\{a,b\\}} \\sum_{i=1}^n (y_i - a - bx_i)^2$\n",
        "\n",
        "Setting the first order conditions to zero:\n",
        "\n",
        "1. $\\frac{\\delta S^2}{\\delta a} = -2 \\sum_{i=1}^{n} (y_i - a - bx_i) = 0$\n",
        "\n",
        "2. $\\frac{\\delta S^2}{\\delta b} = -2 \\sum_{i=1}^{n} x_i(y_i - a - bx_i) = 0$\n",
        "\n",
        "From the first partial derivative:\n",
        "\n",
        "$\\sum_{i=1}^{n} (y_i - a - bx_i) = \\sum_{i=1}^{n} y_i - na - b\\sum_{i=1}^{n}x_i$\n",
        "\n",
        "Solving for $a$:\n",
        "\n",
        "$a = \\frac{\\sum_{i=1}^{n} y_i - b\\sum_{i=1}^{n}x_i}{n} = \\bar{y} - b\\bar{x}$\n",
        "\n",
        "This equation can be expressed as $\\bar{y} = a + b\\bar{x}$, which tells us that the regression line will go through the points $(\\bar{x}, \\bar{y})$. If we substitute $a$ into the second partial derivative:\n",
        "\n",
        "$\\sum_{i=1}^{n} x_i(y_i - \\bar{y} + b \\bar{x} - bx_i) =\n",
        "\\sum_{i=1}^{n} x_i(y_i - \\bar{y}) - b \\sum_{i=1}^{n} x_i(x_i - \\bar{x})$\n",
        "\n",
        "Solving for $b$:\n",
        "\n",
        "$b = \\frac{\\sum_{i=1}^{n} x_i(y_i - \\bar{y})}{\\sum_{i=1}^{n} x_i(x_i - \\bar{x})}$\n",
        "\n",
        "We have thus found the estimators that minimize the loss function. However, $b$ can be expressed in a more elegant way. In order to do it, note that:\n",
        "\n",
        "1. $\\sum_{i=1}^{n} (x_i - \\bar{x})(y_i - \\bar{y}) =\n",
        "\\sum_{i=1}^{n} x_i(y_i - \\bar{y}) - \\bar{x} \\sum_{i=1}^{n} (y_i - \\bar{y}) =\n",
        "\\sum_{i=1}^{n} x_i(y_i - \\bar{y})$\n",
        "2. $\\sum_{i=1}^{n} (x_i - \\bar{x})^2 =\n",
        "\\sum_{i=1}^{n} x_i(x_i - \\bar{x}) - \\bar{x} \\sum_{i=1}^{n} (x_i - \\bar{x}) =\n",
        "\\sum_{i=1}^{n} x_i(x_i - \\bar{x})$\n",
        "\n",
        "Because $\\sum_{i=1}^{n} (w_i - \\bar{w}) = 0$ for any array observations.\n",
        "\n",
        "Hence, we can rewrite $b$ as:\n",
        "\n",
        "$b = \\frac{\\sum_{i=1}^{n} x_i(y_i - \\bar{y})}{\\sum_{i=1}^{n} x_i(x_i - \\bar{x})}\n",
        "=\\frac{\\sum_{i=1}^{n} (x_i - \\bar{x})(y_i - \\bar{y})}{\\sum_{i=1}^{n} (x_i - \\bar{x})^2} =\n",
        "\\frac{Cov(x, y)}{V(x)}$\n",
        "\n",
        "Remember that $S^2$ is our loss function, which we just minimized. In order to measure how well we fit the line that minimizes $S^2$ we rewrite:\n",
        "\n",
        "$S^2 = \\sum_{i=1}^n (y_i - \\hat{y}_i)^2 = \\sum_{i=1}^{n} (y_i - a - bx_i)^2 =\n",
        "\\sum_{i=1}^{n}(y_i - \\bar{y} + b\\bar{x} - bx_i)^2 =\n",
        "\\sum_{i=1}^{n} [(y_i - \\bar{y}) - b(x_i - \\bar{x})]^2$\n",
        "\n",
        "$\\space\\space\\space\\space\\space =\n",
        "\\sum_{i=1}^{n} (y_i - \\bar{y})^2 + b^2\\sum_{i=1}^{n}(x_i - \\bar{x})^2 - 2b\\sum_{i=1}^{n}(x_i - \\bar{x})(y_i - \\bar{y})$\n",
        "\n",
        "Note that the last term is the numerator of $b$. If we solve for the numerator and replace it in the above equation:\n",
        "\n",
        "$S^2 = \\sum_{i=1}^{n} (y_i - \\bar{y})^2 + b^2\\sum_{i=1}^{n}(x_i - \\bar{x})^2 - 2b^2\\sum_{i=1}^{n} (x_i - \\bar{x})^2$\n",
        "\n",
        "Therefore:\n",
        "\n",
        "$S^2 = \\sum_{i=1}^{n} (y_i - \\bar{y})^2 - b^2\\sum_{i=1}^{n}(x_i - \\bar{x})^2$\n",
        "\n",
        "In other words, the squared error of $Y$ from the regression line is the squared error of $Y$ from its mean minus $b^2\\sum_{i=1}^n (x_i - \\bar{x})^2$. This term is therefore the reduction in the variability of the $Y$ caused by calculating the regression.\n",
        "\n",
        "In order to make a metric out of this, we divide by the squared error of $Y$ from its mean:\n",
        "\n",
        "$R^2 = \\frac{S^2}{\\sum (y_i - \\bar{y})^2} = 1 - \\frac{b^2\\sum(x_i - \\bar{x})^2}{\\sum (y_i - \\bar{y})^2}$\n",
        "\n",
        "This is known as the R-squared coefficient. It is bound between 0 and 1 and expresses the proportion of the variability of $Y$ that was reduced by fitting the regression line. The closer it is to 1, the better (because it removes a high percentage of the variability) and vice versa. The $R^2$ coefficient is also the square of the correlation coefficient between $X$ and $Y$.\n",
        "\n",
        "Let's now run the regression of $y$ on $x$."
      ]
    },
    {
      "cell_type": "code",
      "metadata": {
        "id": "R9Gop2N4kA20",
        "colab": {
          "base_uri": "https://localhost:8080/",
          "height": 398
        },
        "outputId": "0a9b3b89-9ee1-4fc9-b554-19a78dd4d5e0"
      },
      "source": [
        "# statsmodels does not model alpha by default, so we must add a column of 1s\n",
        "df['CONSTANT'] = 1\n",
        "\n",
        "# Initialize and fit model\n",
        "reg = sm.OLS(df['MEDV'], df[['CONSTANT','LSTAT']])\n",
        "reg = reg.fit()\n",
        "\n",
        "# Print estimates\n",
        "print('Estimates for a and b:\\n', reg.params, '\\n', sep='')\n",
        "\n",
        "# Save parameters in a, b\n",
        "a = reg.params.values[0]\n",
        "b = reg.params.values[1]\n",
        "\n",
        "# Estimated line\n",
        "print('Estimated linear equation:\\n   ', 'y_hat_i = ', round(a, 1), round(b, 1), 'x_i', sep='')\n",
        "\n",
        "# Plot original scatter\n",
        "plt.scatter(df['LSTAT'], df['MEDV'], alpha=0.5)\n",
        "plt.xlabel('Low-status households in area (%)')\n",
        "plt.ylabel('Price (thousands of dollars)')\n",
        "\n",
        "# Add regression line\n",
        "plt.plot(df['LSTAT'], a + b * df['LSTAT'], ls='--', color='C1', label='Esimated regression line')\n",
        "plt.legend()\n",
        "plt.show()"
      ],
      "execution_count": 4,
      "outputs": [
        {
          "output_type": "stream",
          "text": [
            "Estimates for a and b:\n",
            "CONSTANT    34.553841\n",
            "LSTAT       -0.950049\n",
            "dtype: float64\n",
            "\n",
            "Estimated linear equation:\n",
            "   y_hat_i = 34.6-1.0x_i\n"
          ],
          "name": "stdout"
        },
        {
          "output_type": "display_data",
          "data": {
            "image/png": "[encoded data removed]",
            "text/plain": [
              "<Figure size 432x288 with 1 Axes>"
            ]
          },
          "metadata": {
            "tags": [],
            "needs_background": "light"
          }
        }
      ]
    },
    {
      "cell_type": "markdown",
      "metadata": {
        "id": "9iJn0zCT5Agr"
      },
      "source": [
        "Let's now take a look a the theoretical justification for the method of estimation we just used.\n",
        "\n",
        "Suppose that $Y$ is normally distributed with variance $\\sigma^2$. Since the variance is a constant, we say that the dependent variable is homoskedastic. Our model is then:\n",
        "\n",
        "$y_i = \\alpha + \\beta x_i + \\epsilon_i$\n",
        "\n",
        "Where $\\epsilon_i$, the random error in the $i$-th observation is normally distributed with zero mean and variance $\\sigma^2$.\n",
        "\n",
        "The log-likelihood of the set of observations is:\n",
        "\n",
        " $\\text{log}L = -\\frac{n}{2}\\text{log}2\\pi - -\\frac{n}{2}\\text{log}\\sigma^2 -\n",
        " -\\frac{n}{2 \\sigma^2}\\sum_{i=1}^n (y_i - \\alpha - \\beta x_i)^2$\n",
        "\n",
        "So solving for $\\alpha$ and $\\beta$ is literally the same problem as OLS. Hence, the estimators $a$ and $b$, being maximum likelihood estimators, are thus sufficient and normally distributed. This only holds when $Y$ is normally distributed though.\n",
        "\n",
        "The method of least squares can be applied to model $Y$ as a function of more than one independent variable."
      ]
    },
    {
      "cell_type": "code",
      "metadata": {
        "id": "WozUU09a4USw"
      },
      "source": [
        "reg = sm.OLS(endog=df['MEDV'], exog=df.drop('MEDV', axis=1))\n",
        "reg = reg.fit()"
      ],
      "execution_count": 5,
      "outputs": []
    },
    {
      "cell_type": "code",
      "metadata": {
        "colab": {
          "base_uri": "https://localhost:8080/"
        },
        "id": "ch4CA31DC-OP",
        "outputId": "c458c4c3-b178-4c8e-97db-464481d3a329"
      },
      "source": [
        "print(reg.summary())"
      ],
      "execution_count": 6,
      "outputs": [
        {
          "output_type": "stream",
          "text": [
            "                            OLS Regression Results                            \n",
            "==============================================================================\n",
            "Dep. Variable:                   MEDV   R-squared:                       0.741\n",
            "Model:                            OLS   Adj. R-squared:                  0.734\n",
            "Method:                 Least Squares   F-statistic:                     108.1\n",
            "Date:                Thu, 06 May 2021   Prob (F-statistic):          6.72e-135\n",
            "Time:                        03:24:55   Log-Likelihood:                -1498.8\n",
            "No. Observations:                 506   AIC:                             3026.\n",
            "Df Residuals:                     492   BIC:                             3085.\n",
            "Df Model:                          13                                         \n",
            "Covariance Type:            nonrobust                                         \n",
            "==============================================================================\n",
            "                 coef    std err          t      P>|t|      [0.025      0.975]\n",
            "------------------------------------------------------------------------------\n",
            "CRIM          -0.1080      0.033     -3.287      0.001      -0.173      -0.043\n",
            "ZN             0.0464      0.014      3.382      0.001       0.019       0.073\n",
            "INDUS          0.0206      0.061      0.334      0.738      -0.100       0.141\n",
            "CHAS           2.6867      0.862      3.118      0.002       0.994       4.380\n",
            "NOX          -17.7666      3.820     -4.651      0.000     -25.272     -10.262\n",
            "RM             3.8099      0.418      9.116      0.000       2.989       4.631\n",
            "AGE            0.0007      0.013      0.052      0.958      -0.025       0.027\n",
            "DIS           -1.4756      0.199     -7.398      0.000      -1.867      -1.084\n",
            "RAD            0.3060      0.066      4.613      0.000       0.176       0.436\n",
            "TAX           -0.0123      0.004     -3.280      0.001      -0.020      -0.005\n",
            "PTRATIO       -0.9527      0.131     -7.283      0.000      -1.210      -0.696\n",
            "B              0.0093      0.003      3.467      0.001       0.004       0.015\n",
            "LSTAT         -0.5248      0.051    -10.347      0.000      -0.624      -0.425\n",
            "CONSTANT      36.4595      5.103      7.144      0.000      26.432      46.487\n",
            "==============================================================================\n",
            "Omnibus:                      178.041   Durbin-Watson:                   1.078\n",
            "Prob(Omnibus):                  0.000   Jarque-Bera (JB):              783.126\n",
            "Skew:                           1.521   Prob(JB):                    8.84e-171\n",
            "Kurtosis:                       8.281   Cond. No.                     1.51e+04\n",
            "==============================================================================\n",
            "\n",
            "Warnings:\n",
            "[1] Standard Errors assume that the covariance matrix of the errors is correctly specified.\n",
            "[2] The condition number is large, 1.51e+04. This might indicate that there are\n",
            "strong multicollinearity or other numerical problems.\n"
          ],
          "name": "stdout"
        }
      ]
    }
  ]
}