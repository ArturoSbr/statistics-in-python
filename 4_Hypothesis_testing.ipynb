{
  "nbformat": 4,
  "nbformat_minor": 0,
  "metadata": {
    "colab": {
      "name": "4_Hypothesis_testing.ipynb",
      "provenance": [],
      "collapsed_sections": [],
      "authorship_tag": "ABX9TyOTWCjFmU6T5n2bUzX10bMd"
    },
    "kernelspec": {
      "name": "python3",
      "display_name": "Python 3"
    },
    "language_info": {
      "name": "python"
    }
  },
  "cells": [
    {
      "cell_type": "markdown",
      "metadata": {
        "id": "kZ40VkwxcTB8"
      },
      "source": [
        "# Hypothesis testing\n",
        "In science, we are typically interested in debunking a hypothesis in favor of another one. For example, prior to the pandemic, streaming platform users were watching shows for eight hours per week on average. If we suspect that the average watch time changed during the pandemic, we could sample multiple users to prove that what we observed is incompatible with the original hypothesis. That is, we want to show that the average watch time is not eight hours per week. To achieve this, statisticians recur to hypothesis testing.\n",
        "\n",
        "In this notebook, we will explore three different ways to do this:\n",
        "1. Tests of significance\n",
        "1. *p values*\n",
        "1. Confidence intervals\n",
        "\n",
        "### Tests of significance\n",
        "In order to test some statistical hypothesis, which we call the null hypothesis, we do an experiment following this procedure:\n",
        "1. State the null hypothesis, $H_0$. This is the status quo and we are interested in disproving this in favor of an alternative hypothesis, $H_1$.\n",
        "2. Consider all possible results of the experiment and divide the outcomes into an acceptance class and a rejection class. The division must be done in such a way that the probability of obtaining a result in the rejection class when the null hypothesis is true is equal to some small, pre-assigned value called the level of significance, denoted by $\\alpha$.\n",
        "    1. Acceptance class: The events in this region account for $1 - \\alpha$ of all possible outcomes\n",
        "    2. Rejection class: The events in this region accounts for $\\alpha$ of all possible outcomes\n",
        "\n",
        "3. Sample the population of interest to obtain the metric from $H_0$. Assuming that the null hypothesis is true, this metric is a random observation from the distribution stated in $H_0$.\n",
        "4. If the observed result lies in the acceptnce class, we **accept** the null hypothesis. Otherwise, we **reject** it in favor of the alternative hypothesis. \n",
        "\n",
        "To illustrate this, consider the null hypothesis that some coin is unbiased and will consequently follow a binomial distribution with probability of success $P = \\frac{1}{2}$. Suppose we have reason to suspect that the coin is not unbiased, so we flip it 100 times to test if the observed number of heads could have come from a binomial distribution with $P = \\frac{1}{2}$.\n",
        "\n",
        "$H_0: P = \\frac{1}{2}$\n",
        "\n",
        "$H_1: P \\neq \\frac{1}{2}$"
      ]
    },
    {
      "cell_type": "code",
      "metadata": {
        "id": "WSbpWkr-ao3k"
      },
      "source": [
        "# Set local environment\n",
        "import numpy as np\n",
        "from scipy import stats\n",
        "from matplotlib import pyplot as plt\n",
        "\n",
        "# Declare distribution under the assumption that H_0 is true\n",
        "X = stats.binom(n=100, p=0.5)\n",
        "\n",
        "# Set significance level\n",
        "alpha = 0.05"
      ],
      "execution_count": 1,
      "outputs": []
    },
    {
      "cell_type": "markdown",
      "metadata": {
        "id": "BWD_3rxhr9qi"
      },
      "source": [
        "If the coin is unbiased, its probability mass function look as follows:"
      ]
    },
    {
      "cell_type": "code",
      "metadata": {
        "colab": {
          "base_uri": "https://localhost:8080/",
          "height": 295
        },
        "id": "Zwyqn5Gbr6eU",
        "outputId": "e8af028b-8905-4571-d9cf-570bc0a60992"
      },
      "source": [
        "# Number of successes in 100 throws\n",
        "x = np.arange(start=0, stop=101)\n",
        "\n",
        "# Plot binomial distribution under H_0\n",
        "plt.bar(x, X.pmf(x), width=0.5, align='center')\n",
        "\n",
        "# Styling\n",
        "plt.title('PMF of # of heads in 100 throws when P=0.5')\n",
        "plt.xlabel('Number of heads')\n",
        "plt.ylabel('Probability mass')\n",
        "plt.show()"
      ],
      "execution_count": 2,
      "outputs": [
        {
          "output_type": "display_data",
          "data": {
            "image/png": "[encoded data removed]",
            "text/plain": [
              "<Figure size 432x288 with 1 Axes>"
            ]
          },
          "metadata": {
            "tags": [],
            "needs_background": "light"
          }
        }
      ]
    },
    {
      "cell_type": "markdown",
      "metadata": {
        "id": "YqiLBDx9wQqu"
      },
      "source": [
        "Now that we considered have all possible results, we must establish the rejection region. The rejection region will account for $\\alpha \\times 100$ percent of all possible outcomes. Recall that our alternative hypothesis is that $P \\neq \\frac{1}{2}$, so we must reject $H_0$ if the observed outcome is either too small or to great. This is known as a two-tailed test."
      ]
    },
    {
      "cell_type": "code",
      "metadata": {
        "colab": {
          "base_uri": "https://localhost:8080/",
          "height": 329
        },
        "id": "jlH34vPEwOpx",
        "outputId": "ff669814-9f2c-44f7-92b2-b6127fe55048"
      },
      "source": [
        "# Find the critical number of successes BELOW which the result will be deemed \"too few\"\n",
        "left_bound = X.ppf(alpha / 2)\n",
        "print('Number of heads below which we will reject H_0:', left_bound)\n",
        "\n",
        "# Find the critical number of successes ABOVE which the result will be deemed \"too many\"\n",
        "right_bound = X.ppf(1 - alpha / 2)\n",
        "print('Number of heads above which we will reject H_0:', right_bound)\n",
        "\n",
        "# Establish the number of successes in the rejection region\n",
        "x_rejection = np.union1d(np.arange(start=0, stop=left_bound + 1),\n",
        "                        np.arange(start=right_bound, stop=100 + 1))\n",
        "\n",
        "# Plot PMF\n",
        "plt.bar(x, X.pmf(x), width=0.5, align='center',\n",
        "        color='C0', label='Acceptance region')\n",
        "# Plot rejection region over PMF\n",
        "plt.bar(x_rejection, X.pmf(x_rejection), width=0.5, align='center',\n",
        "        color='C1', label='Rejection Region')\n",
        "\n",
        "# Styling\n",
        "plt.title('PMF and rejection region')\n",
        "plt.xlabel('Number of heads')\n",
        "plt.ylabel('Probability mass')\n",
        "plt.legend()\n",
        "plt.show()"
      ],
      "execution_count": 3,
      "outputs": [
        {
          "output_type": "stream",
          "text": [
            "Number of heads below which we will reject H_0: 40.0\n",
            "Number of heads above which we will reject H_0: 60.0\n"
          ],
          "name": "stdout"
        },
        {
          "output_type": "display_data",
          "data": {
            "image/png": "[encoded data removed]",
            "text/plain": [
              "<Figure size 432x288 with 1 Axes>"
            ]
          },
          "metadata": {
            "tags": [],
            "needs_background": "light"
          }
        }
      ]
    },
    {
      "cell_type": "markdown",
      "metadata": {
        "id": "S1KMZH5f3cnT"
      },
      "source": [
        "We will now do the experiment to determine if the observed number of heads is in agreement with the null hypothesis. If the number of heads lie in the acceptance region, we won't be able to reject $H_0$. If the number of heads lies in the rejection region, we will reject $H_0$ and $H_1$ will become the new status quo."
      ]
    },
    {
      "cell_type": "code",
      "metadata": {
        "colab": {
          "base_uri": "https://localhost:8080/"
        },
        "id": "zczWI6HnzvXW",
        "outputId": "818b881c-3893-4a15-eb7b-c2a35d0231cf"
      },
      "source": [
        "# Do the experiment once (100 flips)\n",
        "obs = X.rvs(size=1, random_state=123).item()\n",
        "print('The experiment resulted in', obs, 'heads.')\n",
        "\n",
        "# Test the hypothesis based on what we observed\n",
        "if obs in x_rejection:\n",
        "    print('Reject H_0')\n",
        "else:\n",
        "    print('Do not reject H_0')"
      ],
      "execution_count": 4,
      "outputs": [
        {
          "output_type": "stream",
          "text": [
            "The experiment resulted in 52 heads.\n",
            "Do not reject H_0\n"
          ],
          "name": "stdout"
        }
      ]
    },
    {
      "cell_type": "markdown",
      "metadata": {
        "id": "koAO29ZP409t"
      },
      "source": [
        "### *p values*\n",
        "We did the experiment to check whether the observed number of heads is acceptable or not. An alternative way of testing the hypothesis is calculating a *p value* and comparing it to $\\alpha$.\n",
        "\n",
        "A *p value* is the probability of obtaining a result as extreme or more extreme than the value we just observed under the assumption that $H_0$ is true. Hence, we reject $H_0$ if our *p value* is less than or equal to $\\alpha$ because its occurrence is even less likely than $\\alpha \\times 100$ percent. Likewise, if the *p value* is greater than $\\alpha$, we cannot reject $H_0$ because its occurrence is more likely than $\\alpha \\times 100$ percent.\n",
        "\n",
        "In our experiment, we observed 52 heads. Graphically, the probability of observing a result as or more extreme than this looks as follows:"
      ]
    },
    {
      "cell_type": "code",
      "metadata": {
        "colab": {
          "base_uri": "https://localhost:8080/",
          "height": 265
        },
        "id": "gdHEUCV1H_H0",
        "outputId": "deccc36e-de65-447a-d019-869929411e3e"
      },
      "source": [
        "# Probability of heads under H_0\n",
        "mu_0 = 0.5\n",
        "\n",
        "# Expected number of heads\n",
        "expected = mu_0 * 100\n",
        "\n",
        "# Deviation of observed number of heads from its mean\n",
        "obs_dev = obs - X.stats('m')\n",
        "\n",
        "# Extreme results to the left\n",
        "extreme_l = np.arange(0,  expected - obs_dev + 1)\n",
        "\n",
        "# Extreme results to the right\n",
        "extreme_r = np.arange(expected + obs_dev, 100 + 1)\n",
        "\n",
        "# Plot PMF\n",
        "plt.bar(x, X.pmf(x), width=0.5, align='center', color='C0',\n",
        "        label='Prob. Mass Function')\n",
        "# Plot probability of results as or more extreme than ±2 heads\n",
        "plt.bar(np.union1d(extreme_l, extreme_r),\n",
        "        X.pmf(np.union1d(extreme_l, extreme_r)), color='C2', width=0.5,\n",
        "        label='Results as or more extreme')\n",
        "# Plot rejection region\n",
        "plt.bar(x_rejection, X.pmf(x_rejection), width=0.5, align='center',\n",
        "        color='C1', label='Rejection Region')\n",
        "\n",
        "# Styling\n",
        "plt.xlim(0, 120)\n",
        "plt.legend()\n",
        "plt.show()"
      ],
      "execution_count": 5,
      "outputs": [
        {
          "output_type": "display_data",
          "data": {
            "image/png": "[encoded data removed]",
            "text/plain": [
              "<Figure size 432x288 with 1 Axes>"
            ]
          },
          "metadata": {
            "tags": [],
            "needs_background": "light"
          }
        }
      ]
    },
    {
      "cell_type": "markdown",
      "metadata": {
        "id": "HLWlLvasMIGV"
      },
      "source": [
        "Analytically, the probability of observing a reulst as or more extreme than 52 heads is much greater than $\\alpha = 0.5$."
      ]
    },
    {
      "cell_type": "code",
      "metadata": {
        "colab": {
          "base_uri": "https://localhost:8080/"
        },
        "id": "wopkUOl24CQH",
        "outputId": "65e541b9-ca7d-46de-ee90-a9bfdf805c4c"
      },
      "source": [
        "# Find the probability of observing a deviation from the mean as large or larger than this\n",
        "p_value = X.cdf(expected - obs_dev) + (1 - X.cdf(expected + obs_dev))\n",
        "print('The probability of observing a deviation of', obs_dev,\n",
        "      'heads away from the mean in either direction is', round(p_value, 2))\n",
        "\n",
        "# Test hypothesis\n",
        "if p_value <= alpha:\n",
        "    print('Reject H_0.')\n",
        "else:\n",
        "    print('Unable to reject H_0.')"
      ],
      "execution_count": 6,
      "outputs": [
        {
          "output_type": "stream",
          "text": [
            "The probability of observing a deviation of 2.0 heads away from the mean in either direction is 0.69\n",
            "Unable to reject H_0.\n"
          ],
          "name": "stdout"
        }
      ]
    },
    {
      "cell_type": "markdown",
      "metadata": {
        "id": "i3CXTWVV-wlI"
      },
      "source": [
        "We were not able to reject the null hypothesis. In other words, there is no evidence to suggest that the coin is not unbiased.\n",
        "\n",
        "In order to illustrate an instance when the null hypothesis **is** false, suppose we grab another coin with a true probability of heads $P = 0.7$. We will repeat the same experiment to test if the new coin is also unbiased."
      ]
    },
    {
      "cell_type": "code",
      "metadata": {
        "colab": {
          "base_uri": "https://localhost:8080/"
        },
        "id": "BU1ZYAp__RzV",
        "outputId": "606ceb76-8ad9-4441-bce1-8be3a66aec7d"
      },
      "source": [
        "# Declare biased coin\n",
        "Y = stats.binom(n=100, p=0.7)\n",
        "\n",
        "# Do experiment with biased coin\n",
        "obs = Y.rvs(size=1, random_state=123).item()\n",
        "print('There were', obs, 'heads in 100 flips.')"
      ],
      "execution_count": 7,
      "outputs": [
        {
          "output_type": "stream",
          "text": [
            "There were 66 heads in 100 flips.\n"
          ],
          "name": "stdout"
        }
      ]
    },
    {
      "cell_type": "code",
      "metadata": {
        "colab": {
          "base_uri": "https://localhost:8080/"
        },
        "id": "tDcpXBl1_u_g",
        "outputId": "88fe373e-49c9-4c35-e6a6-88a4f0d897b7"
      },
      "source": [
        "# Calculate p value\n",
        "p_value = stats.binom_test(x=obs, n=100, p=0.5, alternative='two-sided')\n",
        "print('The probability of observing a result as or more extreme than this is',\n",
        "      round(p_value, 3))\n",
        "\n",
        "# Test hypothesis\n",
        "if p_value <= alpha:\n",
        "    print('Reject H_0.')\n",
        "else:\n",
        "    print('Unable to reject H_0.')"
      ],
      "execution_count": 8,
      "outputs": [
        {
          "output_type": "stream",
          "text": [
            "The probability of observing a result as or more extreme than this is 0.002\n",
            "Reject H_0.\n"
          ],
          "name": "stdout"
        }
      ]
    },
    {
      "cell_type": "markdown",
      "metadata": {
        "id": "30JDOwy8NI6X"
      },
      "source": [
        "### Confidence intervals\n",
        "The rejection of a hypothesis at the $\\alpha \\times 100$ per cent confidence level **does not imply** that the probability that the null hypothesis is false is $\\alpha$. The correct interpretation is:\n",
        "> Under the assumption that the null hypothesis is true, the observed result belongs to a class of outcomes whose probability of occurrence is less than or equal to $\\alpha$.\n",
        "\n",
        "If the significance test results in the acceptance of $H_0$, we cannot guarantee that it is true. We can only say that we do not have evidence to suspect that it is false.\n",
        "\n",
        "Confidence Intervals are used to overcome these difficulties. A confidence interval is an interval constructed from the observed results in such a way that it has a known probability of containing the parameter that we are trying to estimate.\n",
        "\n",
        "For example, if $x$ heads and $n - x$ tails are observed in $n$ coin flips, then the variable $p = \\frac{x}{n}$ will be approximately normally distributed with mean $P$ and variance $\\frac{PQ}{n}$. We approximate the variance with $\\frac{pq}{n}$.\n",
        "\n",
        "The standardized variable $z = \\frac{p - P}{\\sqrt{\\frac{pq}{n}}}$ will therefore follow a normal distribution with mean 0 and standard deviation 1.\n",
        "\n",
        "It follows that:\n",
        "\n",
        "$\\text{Prob} (-1.96 \\leq z \\leq 1.96) = 0.95$\n",
        "\n",
        "Which is equivalent to:\n",
        "\n",
        "$\\text{Prob} (-1.96 \\sqrt{\\frac{pq}{n}} \\leq  p - P \\leq 1.96 \\sqrt{\\frac{pq}{n}} ) = 0.95$\n",
        "\n",
        "$\\text{Prob} (p -1.96 \\sqrt{\\frac{pq}{n}} \\leq  P \\leq p + 1.96 \\sqrt{\\frac{pq}{n}} ) = 0.95$\n",
        "\n",
        "If we repeat the experiment a large number of times and at each repetition calculate these limits to assert that $P$ is cointained within them, we would be correct 95 per cent of the time.\n",
        "\n",
        "Let's calculate a 95% confidence interval for the number of heads in the coin flip experiment using the unbiased coin."
      ]
    },
    {
      "cell_type": "code",
      "metadata": {
        "colab": {
          "base_uri": "https://localhost:8080/"
        },
        "id": "3EGpZK_JNG61",
        "outputId": "6f0569eb-d688-431d-850c-6e250726d102"
      },
      "source": [
        "### Calculate C.I. by hand\n",
        "\n",
        "# Recall experiment with unbiased coin\n",
        "obs = X.rvs(size=1, random_state=123).item()\n",
        "\n",
        "# Observed parameters\n",
        "obs_mean = obs / 100\n",
        "obs_var = (obs_mean * (1 - obs_mean)) / 100\n",
        "\n",
        "# 95% confidence interval\n",
        "(obs_mean - 1.96 * np.sqrt(obs_var), obs_mean + 1.96 * np.sqrt(obs_var))"
      ],
      "execution_count": 9,
      "outputs": [
        {
          "output_type": "execute_result",
          "data": {
            "text/plain": [
              "(0.42207843138511314, 0.6179215686148869)"
            ]
          },
          "metadata": {
            "tags": []
          },
          "execution_count": 9
        }
      ]
    },
    {
      "cell_type": "code",
      "metadata": {
        "colab": {
          "base_uri": "https://localhost:8080/"
        },
        "id": "5kBjy6v-fDl3",
        "outputId": "6b4af278-9208-4379-9c59-6fa6453b4762"
      },
      "source": [
        "### Calculate C.I. with scipy\n",
        "\n",
        "# Declare normal random variable with observed parameters\n",
        "Z = stats.norm(loc=obs_mean, scale=np.sqrt(obs_var))\n",
        "\n",
        "# Calculate C.I.\n",
        "Z.interval(0.95)"
      ],
      "execution_count": 10,
      "outputs": [
        {
          "output_type": "execute_result",
          "data": {
            "text/plain": [
              "(0.4220802307169153, 0.6179197692830847)"
            ]
          },
          "metadata": {
            "tags": []
          },
          "execution_count": 10
        }
      ]
    },
    {
      "cell_type": "markdown",
      "metadata": {
        "id": "lpQsxiMzfruC"
      },
      "source": [
        "For a list of many solved exercises using different distributions, please check the following repositories:\n",
        "\n",
        "1. [tests of significance](https://github.com/ArturoSbr/Principles-of-Statistics-MG-Bulmer-1965/blob/main/09_tests_of_significance.ipynb)\n",
        "2. [confidence intervals](https://github.com/ArturoSbr/Principles-of-Statistics-MG-Bulmer-1965/blob/main/10_Statistical_inference.ipynb)"
      ]
    }
  ]
}