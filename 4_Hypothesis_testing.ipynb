{
  "nbformat": 4,
  "nbformat_minor": 0,
  "metadata": {
    "colab": {
      "name": "4_Hypothesis_testing.ipynb",
      "provenance": [],
      "authorship_tag": "ABX9TyNtr46owduBPN///obxDB0L"
    },
    "kernelspec": {
      "name": "python3",
      "display_name": "Python 3"
    },
    "language_info": {
      "name": "python"
    }
  },
  "cells": [
    {
      "cell_type": "markdown",
      "metadata": {
        "id": "kZ40VkwxcTB8"
      },
      "source": [
        "# Hypothesis testing\n",
        "In science, we are typically interested in debunking a hypothesis in favor of another one. For example, prior to the pandemic, streaming platform users were watching shows for eight hours per week on average. If we suspect that the average watch time changed during the pandemic, we would have to sample multiple users to prove that what we observed is incompatible with the original hypothesis. That is, we want to show that the average watch time is not eight hours per week. To achieve this, statisticians recur to hypothesis testing.\n",
        "\n",
        "In order to test some statistical hypothesis, which we call the null hypothesis, we do an experiment following this procedure:\n",
        "1. State the null hypothesis, $H_0$. This is the status quo and we are interested in disproving this in favor of an alternative hypothesis, $H_1$.\n",
        "2. Consider all possible results of the experiment and divide them in such a way that the probability of obtaining a result in the rejection class when the null hypothesis is true is equal to some small, pre-assigned value called the level of significance, denoted by $\\alpha$. The two classes in which we will :\n",
        "    1. The acceptance class. The events in this region account for $1 - \\alpha$ of all possible outcomes\n",
        "    2. The rejection class. The events in this region accounts for $\\alpha$ of all possible outcomes\n",
        "\n",
        "3. Sample the population of interest to obtain the metric from $H_0$. Assuming that the null hypothesis is true, this metric is a random observation from the distribution stated in $H_0$.\n",
        "4. If the observed result lies in the acceptnce class we accept the null hypothesis. Otherwise, we reject it in favor of the alternative hypothesis. \n",
        "\n",
        "To illustrate this, consider the null hypothesis that some coin is unbiased and will consequently follow a binomial distribution with probability of success $P = \\frac{1}{2}$. Suppose we have reason to suspect that the coin is not unbiased, so we flip it 100 times to test if the observed number of heads could have come from a binomial distribution with $P = \\frac{1}{2}$.\n",
        "\n",
        "$H_0: P = \\frac{1}{2}$\n",
        "\n",
        "$H_1: P \\neq \\frac{1}{2}$"
      ]
    },
    {
      "cell_type": "code",
      "metadata": {
        "id": "WSbpWkr-ao3k"
      },
      "source": [
        "# Set local environment\n",
        "import numpy as np\n",
        "from scipy import stats\n",
        "from matplotlib import pyplot as plt\n",
        "\n",
        "# Declare distribution under the assumption that H_0 is true\n",
        "X = stats.binom(n=100, p=0.5)\n",
        "\n",
        "# Set significance level\n",
        "alpha = 0.05"
      ],
      "execution_count": 1,
      "outputs": []
    },
    {
      "cell_type": "markdown",
      "metadata": {
        "id": "BWD_3rxhr9qi"
      },
      "source": [
        "If the coin is unbiased, its probability mass function look as follows:"
      ]
    },
    {
      "cell_type": "code",
      "metadata": {
        "colab": {
          "base_uri": "https://localhost:8080/",
          "height": 296
        },
        "id": "Zwyqn5Gbr6eU",
        "outputId": "e844caf1-2999-4327-c699-2c4c0f504373"
      },
      "source": [
        "# Number of successes in 100 throws\n",
        "x = np.arange(start=0, stop=101)\n",
        "\n",
        "# Plot binomial distribution under H_0\n",
        "plt.bar(x, X.pmf(x), width=0.5, align='center')\n",
        "\n",
        "# Styling\n",
        "plt.legend()\n",
        "plt.xlabel('Number of heads')\n",
        "plt.ylabel('Probability mass')\n",
        "plt.show()"
      ],
      "execution_count": 2,
      "outputs": [
        {
          "output_type": "stream",
          "text": [
            "No handles with labels found to put in legend.\n"
          ],
          "name": "stderr"
        },
        {
          "output_type": "display_data",
          "data": {
            "image/png": "[encoded data removed]",
            "text/plain": [
              "<Figure size 432x288 with 1 Axes>"
            ]
          },
          "metadata": {
            "tags": [],
            "needs_background": "light"
          }
        }
      ]
    },
    {
      "cell_type": "markdown",
      "metadata": {
        "id": "YqiLBDx9wQqu"
      },
      "source": [
        "Now that we considered have all possible results, we must establish the rejection region. The rejection region will account for $\\alpha \\times 100$ percent of all possible outcomes. Recall that our alternative hypothesis is that $P \\neq \\frac{1}{2}$, so we must reject $H_0$ if the observed outcome is either too small or to great. This is known as a two-tailed test."
      ]
    },
    {
      "cell_type": "code",
      "metadata": {
        "colab": {
          "base_uri": "https://localhost:8080/",
          "height": 313
        },
        "id": "jlH34vPEwOpx",
        "outputId": "f8693d6a-53de-4241-f484-c41cec04449d"
      },
      "source": [
        "# Find the critical number of successes BELOW which the result will be deemed \"too few\"\n",
        "left_bound = X.ppf(alpha / 2)\n",
        "print('Number of heads below which we will reject H_0:', left_bound)\n",
        "\n",
        "# Find the critical number of successes ABOVE which the result will be deemed \"too many\"\n",
        "right_bound = X.ppf(1 - alpha / 2)\n",
        "print('Number of heads above which we will reject H_0:', right_bound)\n",
        "\n",
        "# Establish the number of successes in the rejection region\n",
        "x_rejection = np.union1d(np.arange(start=0, stop=left_bound + 1),\n",
        "                        np.arange(start=right_bound, stop=100 + 1))\n",
        "\n",
        "# Plot previous graph and add rejection region\n",
        "plt.bar(x, X.pmf(x), width=0.5, align='center', color='C0', label='Acceptance region')\n",
        "plt.bar(x_rejection, X.pmf(x_rejection), align='center', color='C1', label='Rejection Region')\n",
        "\n",
        "# Styling\n",
        "plt.legend()\n",
        "plt.xlabel('Number of heads')\n",
        "plt.ylabel('Probability mass')\n",
        "plt.show()"
      ],
      "execution_count": 3,
      "outputs": [
        {
          "output_type": "stream",
          "text": [
            "Number of heads below which we will reject H_0: 40.0\n",
            "Number of heads above which we will reject H_0: 60.0\n"
          ],
          "name": "stdout"
        },
        {
          "output_type": "display_data",
          "data": {
            "image/png": "[encoded data removed]",
            "text/plain": [
              "<Figure size 432x288 with 1 Axes>"
            ]
          },
          "metadata": {
            "tags": [],
            "needs_background": "light"
          }
        }
      ]
    },
    {
      "cell_type": "markdown",
      "metadata": {
        "id": "S1KMZH5f3cnT"
      },
      "source": [
        "It's time to do the experiment to determine if the observed number of heads is in agreement with the null hypothesis. If the number of heads lie in the acceptance region, we won't be able to reject $H_0$. If the number of heads lie in the rejection region, we will reject $H_0$ and $H_1$ will become the new status quo."
      ]
    },
    {
      "cell_type": "code",
      "metadata": {
        "colab": {
          "base_uri": "https://localhost:8080/"
        },
        "id": "zczWI6HnzvXW",
        "outputId": "dc65d266-0fff-4737-ae9e-82bbf6204c31"
      },
      "source": [
        "# Do the experiment once (100 flips)\n",
        "obs = X.rvs(size=1, random_state=123).item()\n",
        "print('The experiment resulted in', obs, 'heads.')\n",
        "\n",
        "# Test the hypothesis based on what we observed\n",
        "if obs in x_rejection:\n",
        "    print('Reject H_0')\n",
        "else:\n",
        "    print('Do not reject H_0')"
      ],
      "execution_count": 4,
      "outputs": [
        {
          "output_type": "stream",
          "text": [
            "The experiment resulted in 52 heads.\n",
            "Do not reject H_0\n"
          ],
          "name": "stdout"
        }
      ]
    },
    {
      "cell_type": "markdown",
      "metadata": {
        "id": "koAO29ZP409t"
      },
      "source": [
        "We did the experiment to check whether the observed number of heads is acceptable or not. An alternative way of testing the hypothesis is calculating a *p value* and comparing it to $\\alpha$.\n",
        "\n",
        "A *p value* is the probability of obtaining a result as extreme or more extreme than the value we just observed. Hence, we reject $H_0$ if our *p value* is less than or equal to $\\alpha$ because its occurrence is even less likely than $\\alpha \\times 100$ percent. Likewise, if the *p value* is greater than $\\alpha$, we cannot reject $H_0$ because its occurrence is more likely than $\\alpha \\times 100$ percent."
      ]
    },
    {
      "cell_type": "code",
      "metadata": {
        "colab": {
          "base_uri": "https://localhost:8080/"
        },
        "id": "wopkUOl24CQH",
        "outputId": "6dd4f8fa-4e8d-4d83-c5c3-4e43e5c2fd9e"
      },
      "source": [
        "# Declare mean of population under H_0\n",
        "mu_0 = X.stats('m').item()\n",
        "\n",
        "# Find the deviation of the observed result and the mean in absolute value\n",
        "obs_dev = np.abs(mu_0 - obs)\n",
        "\n",
        "# Find the probability of observing a deviation from the mean as large or larger than this\n",
        "p_value = X.cdf(mu_0 - obs_dev) + (1 - X.cdf(mu_0 + obs_dev))\n",
        "print('The probability of observing a deviation of', obs_dev,\n",
        "      'heads away from the mean in either direction is', round(p_value, 2))\n",
        "\n",
        "# Test hypothesis\n",
        "if p_value <= alpha:\n",
        "    print('Reject H_0.')\n",
        "else:\n",
        "    print('Unable to reject H_0.')"
      ],
      "execution_count": 5,
      "outputs": [
        {
          "output_type": "stream",
          "text": [
            "The probability of observing a deviation of 2.0 heads away from the mean in either direction is 0.69\n",
            "Unable to reject H_0.\n"
          ],
          "name": "stdout"
        }
      ]
    },
    {
      "cell_type": "markdown",
      "metadata": {
        "id": "i3CXTWVV-wlI"
      },
      "source": [
        "We were not able to reject the null hypothesis. In other words, there is no evidence to suggest that the coin is not unbiased.\n",
        "\n",
        "In order to illustrate an instance when the null hypothesis is false, let the coin be unbiased, with a true probability of heads $P = 0.7$. We will test the same hypothesis as before, but this time, chances are we will reject it, since the coin is actually biased this time around."
      ]
    },
    {
      "cell_type": "code",
      "metadata": {
        "colab": {
          "base_uri": "https://localhost:8080/"
        },
        "id": "BU1ZYAp__RzV",
        "outputId": "49a1a929-f202-49a2-f76e-9c8b8ecfb422"
      },
      "source": [
        "# Declare biased coin\n",
        "Y = stats.binom(n=100, p=0.7)\n",
        "\n",
        "# Do experiment with biased coin\n",
        "obs = Y.rvs(size=1, random_state=123).item()\n",
        "print('There were', obs, 'heads in 100 flips.')"
      ],
      "execution_count": 6,
      "outputs": [
        {
          "output_type": "stream",
          "text": [
            "There were 66 heads in 100 flips.\n"
          ],
          "name": "stdout"
        }
      ]
    },
    {
      "cell_type": "code",
      "metadata": {
        "colab": {
          "base_uri": "https://localhost:8080/"
        },
        "id": "tDcpXBl1_u_g",
        "outputId": "e738d32c-e8d2-411d-c10d-0a432afd73ee"
      },
      "source": [
        "# Calculate p value\n",
        "p_value = stats.binom_test(x=obs, n=100, p=0.5, alternative='two-sided')\n",
        "print('The probability of observing a result as or more extreme than this is',\n",
        "      round(p_value, 3))\n",
        "\n",
        "# Test hypothesis\n",
        "if p_value <= alpha:\n",
        "    print('Reject H_0.')\n",
        "else:\n",
        "    print('Unable to reject H_0.')"
      ],
      "execution_count": 7,
      "outputs": [
        {
          "output_type": "stream",
          "text": [
            "The probability of observing a result as or more extreme than this is 0.002\n",
            "Reject H_0.\n"
          ],
          "name": "stdout"
        }
      ]
    }
  ]
}