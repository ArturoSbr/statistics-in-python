{
  "nbformat": 4,
  "nbformat_minor": 0,
  "metadata": {
    "colab": {
      "name": "1_central_limit_theorem.ipynb",
      "provenance": [],
      "collapsed_sections": [],
      "authorship_tag": "ABX9TyM0mYjzTyLdEhXasDIC0Iui"
    },
    "kernelspec": {
      "name": "python3",
      "display_name": "Python 3"
    }
  },
  "cells": [
    {
      "cell_type": "markdown",
      "metadata": {
        "id": "Js45fh2SZm-1"
      },
      "source": [
        "# **Central Limit Theorem**\n",
        "\n",
        "# Definition\n",
        "\n",
        "The Central Limit Theorem (CLT) states that the sum of a **large number of independent random variables** will approximately follow a normal distribution (provided that all the random variables have finite variance).\n",
        "\n",
        "In other words:\n",
        "\n",
        "- Consider $n$ **independent** random variables $\\{X_1, X_2, ..., X_n\\}$\n",
        "- With moments about the mean $\\{\\mu_i, \\sigma_i^2, \\mu_{3i}, ... \\} \\space \\forall \\space i \\in {1, 2, ..., n}$\n",
        "- $Y = \\sum_{i=i}^n X_i$ $\\implies$ $Y \\mathrel{\\dot\\sim} N(\\mu = \\sum_{i=1}^n u_i \\space, \\space \\sigma^2 = \\sum_{i=1}^{n} \\sigma_i^2)$\n",
        "\n",
        "\n",
        "---\n",
        "\n",
        "\n",
        "# Proof\n",
        "\n",
        "Let $M_{i}(t)$ be the moment generating function (mgf) of random variable ($X_i - \\mu_i)$\n",
        "\n",
        "$M_i(t) = E(e^{t(X_i-\\mu_i)}) = E(\\sum_{k=0}^{\\infty} \\frac{(t(X_i-\\mu_i))^k}{k!})$\n",
        "\n",
        "&nbsp;&nbsp;&nbsp;&nbsp;&nbsp;&nbsp;&nbsp;&nbsp;&nbsp;&nbsp;&nbsp;&nbsp;\n",
        "$= E(1) + E(t(X_i-\\mu_i)) +\n",
        "E(\\frac{t^2}{2}(X_i - \\mu_i)^2) +\n",
        "E(\\frac{t^3}{3!}(X_i - \\mu_i)^3) +\n",
        "E(\\frac{t^4}{4!}(X_i - \\mu_i)^2)\\space+\\space...$\n",
        "\n",
        "&nbsp;&nbsp;&nbsp;&nbsp;&nbsp;&nbsp;&nbsp;&nbsp;&nbsp;&nbsp;&nbsp;&nbsp;\n",
        "$=1 + 0 + \\frac{t^2\\sigma_i^2}{2} + \\frac{t^3\\mu_{i3}}{3!} +\n",
        "\\frac{t^4\\mu_{i4}}{4!} \\space + \\space ...$\n",
        "\n",
        "Let $Y^* = \\frac{Y - \\mu}{\\sigma^2} = \\sum_{i=1}^{n}\\frac{X_i - \\mu_i}{\\sigma^2}$\n",
        "\n",
        "Since all pairs of $X_i, X_j$ are independently distributed, the mgf of $Y^*$ is:\n",
        "\n",
        "$M_{Y^*}(t) = \\Pi_{i=1}^{n} M_i(\\frac{t}{\\sigma^2}) = 1 +\n",
        "\\frac{t^2\\sigma_i^2}{\\sigma^2 2} +\n",
        "\\frac{t^3\\mu_{i3}}{\\sigma^3 3!} +\n",
        "\\frac{t^4\\mu_{i4}}{\\sigma^4 4!} \\space + \\space ...$\n",
        "\n",
        "We are assuming that $n$ is large, thus $\\sigma^2$ will be large and all the coefficients that have the term $\\frac{\\mu_i^k}{\\sigma^k}$ are negligible (because $k > 2 \\implies \\sigma^k$ is even larger). Hence:\n",
        "\n",
        "$M_{Y^*}(t) \\approxeq \\Pi_{i=1}^{n} (1 + \\frac{t^2 \\sigma_i^2}{2 \\sigma^2})$\n",
        "\n",
        "$ln(M_{Y^*}(t)) \\approxeq \\sum_{i=1}^{n} ln(1 + \\frac{t^2 \\sigma_i^2}{2 \\sigma^2}) \\approxeq\n",
        "\\sum_{i=1}^{n}\\frac{t^2 \\sigma_i^2}{2 \\sigma^2} =\n",
        "\\frac{t^2}{2} \\frac{1}{\\sigma^2} \\sum_{i=1}^{n} \\sigma_i^2 = \\frac{t^2}{2}$\n",
        "\n",
        "$\\implies M_{Y^*}(t) \\approxeq e^{\\frac{t^2}{2}} \\implies Y^* \\mathrel{\\dot\\sim} N(0, 1) \\implies Y \\mathrel{\\dot\\sim} N(\\mu, \\sigma^2)$\n",
        "\n",
        "---\n",
        "\n",
        "In this script, I will declare 40 independent random variables to see if their sum is truly approximately normally distributed. That is:\n",
        "1. Declare 40 independent random variables: $X_i, i \\in \\{1, 2, ..., 40\\}$\n",
        "2. Declare $Y = \\sum_{i=1}^{n} X_i$\n",
        "3. Compare $Y_{obs}$ against $Y \\sim N(\\sum \\mu_i, \\sum \\sigma_i^2)$\n",
        "\n",
        "---\n",
        "\n",
        "Import libraries\n"
      ]
    },
    {
      "cell_type": "code",
      "metadata": {
        "id": "HJPBOX0LZmOk"
      },
      "source": [
        "import numpy as np\n",
        "import pandas as pd\n",
        "from math import sqrt\n",
        "from scipy import stats\n",
        "import matplotlib.pyplot as plt"
      ],
      "execution_count": 1,
      "outputs": []
    },
    {
      "cell_type": "markdown",
      "metadata": {
        "id": "XsQdPsl5zChN"
      },
      "source": [
        "# 1.  Declare 40 independent random variables\n",
        "\n",
        "- 10 Binomial random variables\n",
        "- 10 Poisson random variables\n",
        "- 10 Normal random variables\n",
        "- 10 $\\chi_f^2$ random variables\n"
      ]
    },
    {
      "cell_type": "code",
      "metadata": {
        "id": "Ir-xU0hWU9jr"
      },
      "source": [
        "# Initialize list where we'll be storing our random variables\n",
        "X = []\n",
        "# Initialize list where we'll be storing the mean of each Random Variable in X\n",
        "MX = []\n",
        "# Initialize list where we'll be storing the variance of each Random Variable in X\n",
        "VX = []"
      ],
      "execution_count": 2,
      "outputs": []
    },
    {
      "cell_type": "code",
      "metadata": {
        "id": "1PGyG33ozAmW"
      },
      "source": [
        "# Add 10 binomials\n",
        "for i in range(10):\n",
        "  np.random.seed(i * 10)\n",
        "  n = np.random.randint(low=50, high=100)\n",
        "  p = 1 / np.random.randint(low=2, high=10)\n",
        "  X.append(stats.binom(n=n, p=p))\n",
        "  MX.append(n * p)\n",
        "  VX.append(n * p * (1 - p))"
      ],
      "execution_count": 3,
      "outputs": []
    },
    {
      "cell_type": "code",
      "metadata": {
        "id": "Pt-N8lGSV2sj"
      },
      "source": [
        "# Add 10 poissons\n",
        "for i in range(10):\n",
        "  np.random.seed(i * 20)\n",
        "  mu = np.random.randint(low=0, high=20)\n",
        "  X.append(stats.poisson(mu=mu))\n",
        "  MX.append(mu)\n",
        "  VX.append(mu)"
      ],
      "execution_count": 4,
      "outputs": []
    },
    {
      "cell_type": "code",
      "metadata": {
        "id": "3VlPhlN34cmj"
      },
      "source": [
        "# Add 10 normals\n",
        "for i in range(10):\n",
        "  np.random.seed(i * 40)\n",
        "  mu = np.random.randint(low=-100, high=100)\n",
        "  s2 = np.random.randint(low=1,  high=20)\n",
        "  X.append(stats.norm(loc=mu, scale=sqrt(s2)))\n",
        "  MX.append(mu)\n",
        "  VX.append(s2)"
      ],
      "execution_count": 5,
      "outputs": []
    },
    {
      "cell_type": "code",
      "metadata": {
        "id": "wrFaO9ny5DR_"
      },
      "source": [
        "# Add 10 chi squares\n",
        "for i in range(10):\n",
        "  np.random.seed(i * 50)\n",
        "  df = np.random.randint(low=1, high=10)\n",
        "  X.append(stats.chi2(df=df))\n",
        "  MX.append(df)\n",
        "  VX.append(2 * df)"
      ],
      "execution_count": 6,
      "outputs": []
    },
    {
      "cell_type": "markdown",
      "metadata": {
        "id": "BCD8iZ5YlYZS"
      },
      "source": [
        "Extract 10,000 random samples from each of the 50 random variables and store the in a data frame"
      ]
    },
    {
      "cell_type": "code",
      "metadata": {
        "id": "ZCNg2fGGgsMw"
      },
      "source": [
        "# Declare data frame and fill it in\n",
        "df = pd.DataFrame()\n",
        "for i in range(len(X)):\n",
        "  df['X_' + str(i + 1)] = X[i].rvs(10000).tolist()\n",
        "\n",
        "# Create list of column names\n",
        "cols = []\n",
        "for dist in ['B_','P_','N_','X2_']:\n",
        "  for i in range(1, 11):\n",
        "    cols.append(dist + str(i))\n",
        "\n",
        "# Overwrite df's column names\n",
        "df.columns = cols"
      ],
      "execution_count": 7,
      "outputs": []
    },
    {
      "cell_type": "markdown",
      "metadata": {
        "id": "K1byz1JBobac"
      },
      "source": [
        "# 2. Declare $Y = \\sum_{i=1}^{50} X_i$"
      ]
    },
    {
      "cell_type": "code",
      "metadata": {
        "id": "1kxlrhKOg-BO"
      },
      "source": [
        "# Observed\n",
        "df['Y'] = df.sum(axis=1)\n",
        "\n",
        "# Theoretical\n",
        "mu_Y = np.sum(MX)\n",
        "s2_Y = np.sum(VX)\n",
        "Y = stats.norm(loc=mu_Y, scale=sqrt(s2_Y))"
      ],
      "execution_count": 8,
      "outputs": []
    },
    {
      "cell_type": "markdown",
      "metadata": {
        "id": "nz7XJ5VOmL9m"
      },
      "source": [
        "# 3. Compare observations against theoretical distribution"
      ]
    },
    {
      "cell_type": "code",
      "metadata": {
        "colab": {
          "base_uri": "https://localhost:8080/"
        },
        "id": "IeoXcB8TfyM0",
        "outputId": "266aa2e5-2670-4d0a-f960-9ca74a3b7406"
      },
      "source": [
        "# Expected mean\n",
        "print('Expected mean:', round(mu_Y, 2))\n",
        "# Observed mean\n",
        "print('Observed mean:', round(df['Y'].mean(), 2))\n",
        "\n",
        "# Expected variance\n",
        "print('\\nExpected variance:', round(s2_Y, 2))\n",
        "# Expected mean\n",
        "print('Observed variance:', round(df['Y'].var(), 2))"
      ],
      "execution_count": 9,
      "outputs": [
        {
          "output_type": "stream",
          "text": [
            "Expected mean: 278.92\n",
            "Observed mean: 278.87\n",
            "\n",
            "Expected variance: 378.46\n",
            "Observed variance: 383.79\n"
          ],
          "name": "stdout"
        }
      ]
    },
    {
      "cell_type": "markdown",
      "metadata": {
        "id": "E2JOTkUZmWyB"
      },
      "source": [
        "Plot observations and theoretical distribution"
      ]
    },
    {
      "cell_type": "code",
      "metadata": {
        "colab": {
          "base_uri": "https://localhost:8080/",
          "height": 295
        },
        "id": "mBuMv7CphOYe",
        "outputId": "9b955482-63d7-4471-d8e9-750388f52eae"
      },
      "source": [
        "# Interval of Y=y values to plot on x-axis\n",
        "y = np.linspace(start=mu_Y - 3 * sqrt(s2_Y), stop=mu_Y + 3 * sqrt(s2_Y),\n",
        "                num=100, endpoint=True)\n",
        "# Plot histogram (relative frequency per bin)\n",
        "plt.hist(df['Y'], bins=y, density=True, label='Observations')\n",
        "# Plot theoretical distribution\n",
        "plt.plot(y, Y.pdf(y), label='Theoretical distribution')\n",
        "# Plot theoretical mean\n",
        "plt.axvline(np.sum(MX), color='C1', ls='--')\n",
        "# Styling\n",
        "plt.title('Histogram of the sum of 50 independent random variables')\n",
        "plt.xlabel('Observed sum')\n",
        "plt.ylabel('Relative frequency per bin')\n",
        "plt.legend()\n",
        "plt.ylim(0, 0.03)\n",
        "# Set x-axis ticks according to standard deviations from the mean\n",
        "plt.xticks(np.linspace(mu_Y - 3 * sqrt(s2_Y), mu_Y + 3 * sqrt(s2_Y), 7, True))\n",
        "# Show\n",
        "plt.show()"
      ],
      "execution_count": 10,
      "outputs": [
        {
          "output_type": "display_data",
          "data": {
            "image/png": "[encoded data removed]",
            "text/plain": [
              "<Figure size 432x288 with 1 Axes>"
            ]
          },
          "metadata": {
            "tags": [],
            "needs_background": "light"
          }
        }
      ]
    },
    {
      "cell_type": "markdown",
      "metadata": {
        "id": "0HWM5LdsmrTt"
      },
      "source": [
        "# 4. Conclusion\n",
        "\n",
        "Central Limit Theorem works, but it will break down if:\n",
        "1. at least one $\\sigma_i^2$ is infinite\n",
        "2. the magnitudes of the $\\sigma_i^2$'s differ a lot\n",
        "3. $X_i$'s are not additive (e.g. $Y = \\Pi_{i=1}^n X_i$)"
      ]
    }
  ]
}
