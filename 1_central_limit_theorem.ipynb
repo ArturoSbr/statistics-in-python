{
  "nbformat": 4,
  "nbformat_minor": 0,
  "metadata": {
    "colab": {
      "name": "1_central_limit_theorem.ipynb",
      "provenance": [],
      "authorship_tag": "ABX9TyPWeMNjVs1D52qrS4N0gypi"
    },
    "kernelspec": {
      "name": "python3",
      "display_name": "Python 3"
    }
  },
  "cells": [
    {
      "cell_type": "markdown",
      "metadata": {
        "id": "Js45fh2SZm-1"
      },
      "source": [
        "# **Central Limit Theorem**\n",
        "\n",
        "# Definition\n",
        "\n",
        "The Central Limit Theorem (CLT) states that the sum of a **large number of independent random variables** will approximately follow a normal distribution (provided that all the random variables have finite variance).\n",
        "\n",
        "In other words:\n",
        "\n",
        "- Consider $n$ **independent** random variables $\\{X_1, X_2, ..., X_n\\}$\n",
        "- With moments about the mean $\\{\\mu_i, \\sigma_i^2, \\mu_{3i}, ... \\} \\space \\forall \\space i \\in {1, 2, ..., n}$\n",
        "- $Y = \\sum_{i=i}^n X_i$ $\\implies$ $Y \\mathrel{\\dot\\sim} N(\\mu = \\sum_{i=1}^n u_i \\space, \\space \\sigma^2 = \\sum_{i=1}^{n} \\sigma_i^2)$\n",
        "\n",
        "\n",
        "---\n",
        "\n",
        "\n",
        "# Proof\n",
        "\n",
        "Let $M_{i}(t)$ be the moment generating function (mgf) of random variable ($X_i - \\mu_i)$\n",
        "\n",
        "$M_i(t) = E(e^{t(X_i-\\mu_i)}) = E(\\sum_{k=0}^{\\infty} \\frac{(t(X_i-\\mu_i))^k}{k!})$\n",
        "\n",
        "&nbsp;&nbsp;&nbsp;&nbsp;&nbsp;&nbsp;&nbsp;&nbsp;&nbsp;&nbsp;&nbsp;&nbsp;\n",
        "$= E(1) + E(t(X_i-\\mu_i)) +\n",
        "E(\\frac{t^2}{2}(X_i - \\mu_i)^2) +\n",
        "E(\\frac{t^3}{3!}(X_i - \\mu_i)^3) +\n",
        "E(\\frac{t^4}{4!}(X_i - \\mu_i)^2)\\space+\\space...$\n",
        "\n",
        "&nbsp;&nbsp;&nbsp;&nbsp;&nbsp;&nbsp;&nbsp;&nbsp;&nbsp;&nbsp;&nbsp;&nbsp;\n",
        "$=1 + 0 + \\frac{t^2\\sigma_i^2}{2} + \\frac{t^3\\mu_{i3}}{3!} +\n",
        "\\frac{t^4\\mu_{i4}}{4!} \\space + \\space ...$\n",
        "\n",
        "Let $Y^* = \\frac{Y - \\mu}{\\sigma^2} = \\sum_{i=1}^{n}\\frac{X_i - \\mu_i}{\\sigma^2}$\n",
        "\n",
        "Since all pairs of $X_i, X_j$ are independently distributed, the mgf of $Y^*$ is:\n",
        "\n",
        "$M_{Y^*}(t) = \\Pi_{i=1}^{n} M_i(\\frac{t}{\\sigma^2}) = 1 +\n",
        "\\frac{t^2\\sigma_i^2}{\\sigma^2 2} +\n",
        "\\frac{t^3\\mu_{i3}}{\\sigma^3 3!} +\n",
        "\\frac{t^4\\mu_{i4}}{\\sigma^4 4!} \\space + \\space ...$\n",
        "\n",
        "We are assuming that $n$ is large, thus $\\sigma^2$ will be large and all the coefficients that have the term $\\frac{\\mu_i^k}{\\sigma^k}$ are negligible (because $k > 2 \\implies \\sigma^k$ is even larger). Hence:\n",
        "\n",
        "$M_{Y^*}(t) \\approxeq \\Pi_{i=1}^{n} (1 + \\frac{t^2 \\sigma_i^2}{2 \\sigma^2})$\n",
        "\n",
        "$ln(M_{Y^*}(t)) \\approxeq \\sum_{i=1}^{n} ln(1 + \\frac{t^2 \\sigma_i^2}{2 \\sigma^2}) \\approxeq\n",
        "\\sum_{i=1}^{n}\\frac{t^2 \\sigma_i^2}{2 \\sigma^2} =\n",
        "\\frac{t^2}{2} \\frac{1}{\\sigma^2} \\sum_{i=1}^{n} \\sigma_i^2 = \\frac{t^2}{2}$\n",
        "\n",
        "$\\implies M_{Y^*}(t) \\approxeq e^{\\frac{t^2}{2}} \\implies Y^* \\mathrel{\\dot\\sim} N(0, 1) \\implies Y \\mathrel{\\dot\\sim} N(\\mu, \\sigma^2)$\n",
        "\n",
        "---\n",
        "\n",
        "Import libraries\n"
      ]
    },
    {
      "cell_type": "code",
      "metadata": {
        "id": "HJPBOX0LZmOk"
      },
      "source": [
        "import numpy as np\n",
        "import pandas as pd\n",
        "from math import sqrt\n",
        "from scipy import stats\n",
        "import matplotlib.pyplot as plt"
      ],
      "execution_count": null,
      "outputs": []
    },
    {
      "cell_type": "markdown",
      "metadata": {
        "id": "XsQdPsl5zChN"
      },
      "source": [
        "I will declare 50 independent random variables\n",
        "\n",
        "- 10 Binomial random variables\n",
        "- 10 Poisson random variables\n",
        "- 10 identical Exponentials with $\\lambda = 1$ (I will scale the pdfs by another lambda later)\n",
        "- 10 Normal random variables\n",
        "- 10 $\\chi_f^2$ random variables\n"
      ]
    },
    {
      "cell_type": "code",
      "metadata": {
        "id": "Ir-xU0hWU9jr"
      },
      "source": [
        "# Initiate list where we'll be storing our random variables\n",
        "X = []"
      ],
      "execution_count": null,
      "outputs": []
    },
    {
      "cell_type": "code",
      "metadata": {
        "id": "1PGyG33ozAmW"
      },
      "source": [
        "# Add 10 binomials\n",
        "for i in range(10):\n",
        "  np.random.seed(i * 10)\n",
        "  n = np.random.randint(low=50, high=100)\n",
        "  p = 1 / np.random.randint(low=2, high=10)\n",
        "  X.append(stats.binom(n=n, p=p))"
      ],
      "execution_count": null,
      "outputs": []
    },
    {
      "cell_type": "code",
      "metadata": {
        "id": "Pt-N8lGSV2sj"
      },
      "source": [
        "# Add 10 poissons\n",
        "for i in range(10):\n",
        "  np.random.seed(i * 20)\n",
        "  mu = np.random.randint(low=0, high=20)\n",
        "  X.append(stats.poisson(mu=mu))"
      ],
      "execution_count": null,
      "outputs": []
    },
    {
      "cell_type": "code",
      "metadata": {
        "id": "ykBO4koN5RkI"
      },
      "source": [
        "# Add 10 exponentials\n",
        "for i in range(10):\n",
        "  X.append(stats.expon())"
      ],
      "execution_count": null,
      "outputs": []
    },
    {
      "cell_type": "code",
      "metadata": {
        "id": "3VlPhlN34cmj"
      },
      "source": [
        "# Add 10 normals\n",
        "for i in range(10):\n",
        "  np.random.seed(i * 40)\n",
        "  mu = np.random.randint(low=-100, high=100)\n",
        "  s2 = np.random.randint(low=1,  high=30)\n",
        "  X.append(stats.norm(loc=mu, scale=sqrt(s2)))"
      ],
      "execution_count": null,
      "outputs": []
    },
    {
      "cell_type": "code",
      "metadata": {
        "id": "wrFaO9ny5DR_"
      },
      "source": [
        "# Add 10 chi squares\n",
        "for i in range(10):\n",
        "  np.random.seed(i * 50)\n",
        "  df = np.random.randint(low=1, high=30)\n",
        "  X.append(stats.chi2(df=df))"
      ],
      "execution_count": null,
      "outputs": []
    },
    {
      "cell_type": "code",
      "metadata": {
        "id": "gt342-GTlXt6"
      },
      "source": [
        ""
      ],
      "execution_count": null,
      "outputs": []
    },
    {
      "cell_type": "markdown",
      "metadata": {
        "id": "BCD8iZ5YlYZS"
      },
      "source": [
        "Extract 10,000 random samples from each of the 50 random variables and store the in a data frame"
      ]
    },
    {
      "cell_type": "code",
      "metadata": {
        "id": "ZCNg2fGGgsMw"
      },
      "source": [
        "# Declare data frame and fill it in\n",
        "df = pd.DataFrame()\n",
        "for i in range(len(X)):\n",
        "  df['X_' + str(i + 1)] = X[i].rvs(10000).tolist()\n",
        "\n",
        "# Create list of column names\n",
        "cols = []\n",
        "for dist in ['B_','P_','e_','N_','X2_']:\n",
        "  for i in range(1, 11):\n",
        "    cols.append(dist + str(i))\n",
        "\n",
        "# Overwrite df's column names\n",
        "df.columns = cols\n",
        "\n",
        "# Scale exponential distributions\n",
        "np.random.seed(123)\n",
        "# Store the lambdas (since they cannot be saved as a parameter)\n",
        "lambdas = []\n",
        "for exp in [col for col in df.columns if col[:2] == 'e_']:\n",
        "  lmb = np.random.randint(low=1, high=20)\n",
        "  lambdas.append(lmb)\n",
        "  df[exp] = lmb * df[exp]**lmb"
      ],
      "execution_count": null,
      "outputs": []
    },
    {
      "cell_type": "markdown",
      "metadata": {
        "id": "K1byz1JBobac"
      },
      "source": [
        "Declare $Y = \\sum_{i=1}^{50} X_i$"
      ]
    },
    {
      "cell_type": "code",
      "metadata": {
        "id": "q3ZEGugImx55"
      },
      "source": [
        "df['Y'] = df.sum(axis=1)"
      ],
      "execution_count": null,
      "outputs": []
    },
    {
      "cell_type": "code",
      "metadata": {
        "colab": {
          "base_uri": "https://localhost:8080/",
          "height": 278
        },
        "id": "mBuMv7CphOYe",
        "outputId": "fa5cbc07-4cd8-488a-8064-d044129183c7"
      },
      "source": [
        "plt.hist(df['Y'], bins=30)\n",
        "plt.show()"
      ],
      "execution_count": null,
      "outputs": [
        {
          "output_type": "display_data",
          "data": {
            "image/png": "[encoded data removed]",
            "text/plain": [
              "<Figure size 432x288 with 1 Axes>"
            ]
          },
          "metadata": {
            "tags": [],
            "needs_background": "light"
          }
        }
      ]
    }
  ]
}